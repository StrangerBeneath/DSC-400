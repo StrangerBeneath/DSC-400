{
 "cells": [
  {
   "cell_type": "markdown",
   "source": [
    "# **4.2 Exercise Assignment 5**\n",
    "# Michael J. Montana\n",
    "# College of Science and Tecnology, Bellevue University\n",
    "# DSC400: Big Data, Technology, and Algorithms\n",
    "# Professor Shawn Hermans\n",
    "# July 2 2023"
   ],
   "metadata": {
    "collapsed": false,
    "pycharm": {
     "name": "#%% md\n"
    }
   }
  },
  {
   "cell_type": "markdown",
   "metadata": {
    "pycharm": {
     "name": "#%% md\n"
    }
   },
   "source": [
    "# Acquiring and Storing Data"
   ]
  },
  {
   "cell_type": "markdown",
   "metadata": {
    "tags": [],
    "pycharm": {
     "name": "#%% md\n"
    }
   },
   "source": [
    "## Assignment 5\n",
    "\n",
    "For this assignment and future assignments, assume that you are the owner of a small but growing retail business, *Datums R Us*. Your store sells technology, tools, and clothing for the discerning data scientist. You currently have stores in the following five locations. \n",
    "\n",
    "- Bellevue, Nebraska\n",
    "- Columbus, Ohio\n",
    "- Denver, Colorado\n",
    "- San Francisco, California\n",
    "- Baltimore, Maryland\n",
    "\n",
    "You have been tasked with creating a data lake for the company using a [directory structure based on Cookiecutter Data Science recommendations](https://drivendata.github.io/cookiecutter-data-science/#directory-structure). This basic directory structure works well for small, self-contained data science projects and organizing large-scale data warehouses.\n",
    "\n",
    "```\n",
    "├── data\n",
    "│   ├── external       <- Data from third-party sources.\n",
    "│   ├── interim        <- Intermediate data that has been transformed.\n",
    "│   ├── processed      <- The final, canonical data sets for modeling and reports.\n",
    "│   └── raw            <- The original, immutable data dump.\n",
    "```\n",
    "\n",
    "You have identified the following items for initial inclusion in the data lake. \n",
    "\n",
    "**External Data Sets**\n",
    "\n",
    "- Census (Updated Yearly)\n",
    "- Weather Forecasts (Updated Daily)\n",
    "\n",
    "**Raw Data Dumps**\n",
    "\n",
    "- Sales (Updated Hourly)\n",
    "- Inventory (Updated Daily)\n",
    "- Expenses (Updated Daily)\n",
    "\n",
    "**Processed Data Sets and Reports**\n",
    "\n",
    "*Weekly*\n",
    "\n",
    "- Modeling Data Set\n",
    "\n",
    "*Monthly*\n",
    "\n",
    "- Inventory Update Request\n",
    "\n",
    "*Quarterly*\n",
    "\n",
    "- Quarterly Financial Report"
   ]
  },
  {
   "cell_type": "markdown",
   "metadata": {
    "pycharm": {
     "name": "#%% md\n"
    }
   },
   "source": [
    "### Assignment 5.1\n",
    "\n",
    "In the first part of the assignment, you will describe the directory structure for the data lake. For the most part, this directory structure will not depend on the technical details of how you store the data. You could be storing the data in a local filesystem, a distributed filesystem such as HDFS, or object storage, such as Amazon S3. \n",
    "\n",
    "You will only be creating the directory structures and not populating actual content. Real-world data lakes store data in a variety of formats including,  Apache Parquet, Google Protocol Buffers, Apache Avro, JSONL, and CSV. \n",
    "\n",
    "You will use Python's built-in [calendar library](https://docs.python.org/3/library/calendar.html), and [datetime library](https://docs.python.org/3/library/datetime.html) to work with the dates and times required for this assignment. You will use the [PurePosixPath](https://docs.python.org/3/library/pathlib.html#pathlib.PurePosixPath) class from Python's built-in [pathlib library](https://docs.python.org/3/library/pathlib.html) to represent locations on the data lake. \n",
    "\n",
    "You will generate the output directories for an entire year's worth of data starting on January 1st of this year. Unless otherwise specified, all times will be in Coordinated Universal Time (UTC). "
   ]
  },
  {
   "cell_type": "code",
   "execution_count": 33,
   "metadata": {
    "pycharm": {
     "name": "#%%\n"
    }
   },
   "outputs": [],
   "source": [
    "# Imports the required Python libraries and \n",
    "# sets global variables for the assignment\n",
    "import calendar\n",
    "import datetime\n",
    "from pathlib import PurePosixPath\n",
    "\n",
    "today = datetime.date.today()\n",
    "current_year = today.year\n",
    "days_in_year = 365\n",
    "\n",
    "if calendar.isleap(current_year):\n",
    "    days_in_year +=1\n",
    "\n",
    "hours_in_year = days_in_year * 24"
   ]
  },
  {
   "cell_type": "code",
   "execution_count": 34,
   "metadata": {
    "pycharm": {
     "name": "#%%\n"
    }
   },
   "outputs": [
    {
     "name": "stdout",
     "output_type": "stream",
     "text": [
      "Root Data Directory: /data\n",
      "External Data Directory: /data/external\n",
      "Interim Data Directory: /data/interim\n",
      "Processed Data Directory: /data/processed\n",
      "Raw Data Directory: /data/raw\n"
     ]
    }
   ],
   "source": [
    "# Creates paths for the external, interim, processed, and raw directories\n",
    "# Use these paths when creating new paths\n",
    "\n",
    "root_data_dir = PurePosixPath('/data')\n",
    "external_data_dir = root_data_dir.joinpath('external')\n",
    "interim_data_dir = root_data_dir.joinpath('interim')\n",
    "processed_data_dir = root_data_dir.joinpath('processed')\n",
    "raw_data_dir = root_data_dir.joinpath('raw')\n",
    "\n",
    "print('Root Data Directory: {}'.format(root_data_dir))\n",
    "print('External Data Directory: {}'.format(external_data_dir))\n",
    "print('Interim Data Directory: {}'.format(interim_data_dir))\n",
    "print('Processed Data Directory: {}'.format(processed_data_dir))\n",
    "print('Raw Data Directory: {}'.format(raw_data_dir))"
   ]
  },
  {
   "cell_type": "markdown",
   "metadata": {
    "pycharm": {
     "name": "#%% md\n"
    }
   },
   "source": [
    "#### Assignment 5.1.a\n",
    "\n",
    "For the purposes of this assignment, we will be using three Census data sets as examples of external data updated yearly. These data sets are:\n",
    "\n",
    "- [American Community Survey (ACS) Summary File](https://www.census.gov/programs-surveys/acs/data/summary-file.html)\n",
    "- [American Community Survey (ACS) Public Use Microdata Sample (PUMS)]( https://www.census.gov/programs-surveys/acs/microdata.html)\n",
    "- [Tiger/Line Shapefiles](https://www.census.gov/geographies/mapping-files/time-series/geo/tiger-line-file.html)\n",
    "\n",
    "If you are curious, you can find the actual data sets at the following locations: \n",
    "\n",
    "- [ACS Summary File](https://www2.census.gov/programs-surveys/acs/summary_file/)\n",
    "- [PUMS](https://www2.census.gov/programs-surveys/acs/data/pums/)\n",
    "- [Tiger](https://www2.census.gov/geo/tiger/)\n",
    "\n",
    "For this assignment, we use the following naming convention for external data sets\n",
    "\n",
    "```\n",
    "/data/external/<source>/<data-set>/<year>/\n",
    "```\n",
    "where *source* is the organization providing the data, *data-set* is the specific data set, and *year* is the year. \n",
    "\n",
    "```\n",
    "data\n",
    "├── external\n",
    "│   ├── census\n",
    "│   │   ├── acs-summaryfile\n",
    "│   │   │   ├── 2015\n",
    "│   │   │   ├── 2016\n",
    "│   │   │   ...\n",
    "│   │   │   ...\n",
    "│   │   │   └── 2019\n",
    "│   │   ├── pums\n",
    "│   │   │   ├── 2015\n",
    "│   │   │   ├── 2016\n",
    "│   │   │   ...\n",
    "│   │   │   ...\n",
    "│   │   │   └── 2020\n",
    "│   │   └── tiger\n",
    "│   │       ├── 2015\n",
    "│   │       ├── 2016\n",
    "│   │   │   ...\n",
    "│   │   │   ...\n",
    "│   │       └── 2020\n",
    "│   └── nwc-wpc\n",
    "├── interim\n",
    "├── processed\n",
    "└── raw\n",
    "```\n",
    "\n",
    "Create and add the paths for these data sets. Verify that you have added the paths correctly."
   ]
  },
  {
   "cell_type": "markdown",
   "source": [
    "## <font color=orange>**TODO**</font>"
   ],
   "metadata": {
    "collapsed": false,
    "pycharm": {
     "name": "#%% md\n"
    }
   }
  },
  {
   "cell_type": "code",
   "execution_count": 35,
   "metadata": {
    "pycharm": {
     "name": "#%%\n"
    }
   },
   "outputs": [
    {
     "data": {
      "text/plain": "[PurePosixPath('/data/external/census/acs-summaryfile/2015'),\n PurePosixPath('/data/external/census/acs-summaryfile/2016'),\n PurePosixPath('/data/external/census/acs-summaryfile/2017'),\n PurePosixPath('/data/external/census/acs-summaryfile/2018'),\n PurePosixPath('/data/external/census/acs-summaryfile/2019'),\n PurePosixPath('/data/external/census/acs-summaryfile/2020'),\n PurePosixPath('/data/external/census/acs-summaryfile/2021'),\n PurePosixPath('/data/external/census/acs-summaryfile/2022')]"
     },
     "execution_count": 35,
     "metadata": {},
     "output_type": "execute_result"
    }
   ],
   "source": [
    "acs_summary_file_dirs = set()\n",
    "\n",
    "# TODO: Create and add the paths for this data set\n",
    "acs_summary_file_dir = external_data_dir.joinpath('census','acs-summaryfile')\n",
    "for year in range(2015, current_year):\n",
    "    acs_summary_file_dirs.add(acs_summary_file_dir.joinpath(str(year)))\n",
    "\n",
    "# Should output sorted directories from 2015 to present \n",
    "sorted(list(acs_summary_file_dirs))"
   ]
  },
  {
   "cell_type": "markdown",
   "metadata": {
    "pycharm": {
     "name": "#%% md\n"
    }
   },
   "source": [
    "#### Assignment 5.1.b"
   ]
  },
  {
   "cell_type": "markdown",
   "source": [
    "## <font color=orange>**TODO**</font>"
   ],
   "metadata": {
    "collapsed": false,
    "pycharm": {
     "name": "#%% md\n"
    }
   }
  },
  {
   "cell_type": "code",
   "execution_count": 36,
   "metadata": {
    "pycharm": {
     "name": "#%%\n"
    }
   },
   "outputs": [
    {
     "data": {
      "text/plain": "[PurePosixPath('/data/external/census/pums/2015'),\n PurePosixPath('/data/external/census/pums/2016'),\n PurePosixPath('/data/external/census/pums/2017'),\n PurePosixPath('/data/external/census/pums/2018'),\n PurePosixPath('/data/external/census/pums/2019'),\n PurePosixPath('/data/external/census/pums/2020'),\n PurePosixPath('/data/external/census/pums/2021'),\n PurePosixPath('/data/external/census/pums/2022')]"
     },
     "execution_count": 36,
     "metadata": {},
     "output_type": "execute_result"
    }
   ],
   "source": [
    "pums_dirs = set()\n",
    "\n",
    "# TODO: Create and add the paths for this data set\n",
    "pums_dir = external_data_dir.joinpath('census','pums')\n",
    "for year in range(2015, current_year):\n",
    "    pums_dirs.add(pums_dir.joinpath(str(year)))\n",
    "# Should output sorted directories from 2015 to present \n",
    "sorted(list(pums_dirs)) "
   ]
  },
  {
   "cell_type": "markdown",
   "metadata": {
    "pycharm": {
     "name": "#%% md\n"
    }
   },
   "source": [
    "#### Assignment 5.1.c"
   ]
  },
  {
   "cell_type": "markdown",
   "source": [
    "## <font color=orange>**TODO**</font>"
   ],
   "metadata": {
    "collapsed": false,
    "pycharm": {
     "name": "#%% md\n"
    }
   }
  },
  {
   "cell_type": "code",
   "execution_count": 37,
   "metadata": {
    "pycharm": {
     "name": "#%%\n"
    }
   },
   "outputs": [
    {
     "data": {
      "text/plain": "[PurePosixPath('/data/external/census/tiger/2015'),\n PurePosixPath('/data/external/census/tiger/2016'),\n PurePosixPath('/data/external/census/tiger/2017'),\n PurePosixPath('/data/external/census/tiger/2018'),\n PurePosixPath('/data/external/census/tiger/2019'),\n PurePosixPath('/data/external/census/tiger/2020'),\n PurePosixPath('/data/external/census/tiger/2021'),\n PurePosixPath('/data/external/census/tiger/2022')]"
     },
     "execution_count": 37,
     "metadata": {},
     "output_type": "execute_result"
    }
   ],
   "source": [
    "tiger_dirs = set()\n",
    "\n",
    "# TODO: Create and add the paths for this data set\n",
    "tiger_dir = external_data_dir.joinpath('census','tiger')\n",
    "for year in range(2015, current_year):\n",
    "    tiger_dirs.add(tiger_dir.joinpath(str(year)))\n",
    "# Should output sorted directories from 2015 to present \n",
    "sorted(list(tiger_dirs)) # Should output sorted directories from 2015 to present "
   ]
  },
  {
   "cell_type": "markdown",
   "metadata": {
    "pycharm": {
     "name": "#%% md\n"
    }
   },
   "source": [
    "#### Assignment 5.1.d\n",
    "\n",
    "Finally, you will create directories for a daily data set based on the [National Weather Service's (NWS) Weather Prediction Center's (WPC) daily forecasts](https://www.wpc.ncep.noaa.gov/kml/kmlproducts.php). \n",
    "\n",
    "For this part, we use the following naming convention\n",
    "\n",
    "```\n",
    "/data/external/nwc-wpc/forecasts/<year>/<month>/<day>/\n",
    "```\n",
    "where *year* is the year, *month* is the two-digit month, and *day* is the two-digit day. We use this convention when working with date-based data as the directories are naturally in date order. \n",
    "\n",
    "```\n",
    "data\n",
    "├── external\n",
    "│   ├── census\n",
    "│   └── nwc-wpc\n",
    "│       └── forecasts\n",
    "│           └── 2020\n",
    "│               ├── 01\n",
    "│               │   ├── 01\n",
    "│               │   ├── 02\n",
    "│               │   ├── 03\n",
    "│               │   ...\n",
    "│               │   ...\n",
    "│               │   ├── 30\n",
    "│               │   └── 31\n",
    "│               ├── 02\n",
    "│               │   ├── 01\n",
    "│               │   ├── 02\n",
    "│               │   ...\n",
    "│               │   ...\n",
    "│               │   ├── 28\n",
    "│               │   └── 29\n",
    "│               ├── 03\n",
    "│               ...\n",
    "│               ...\n",
    "│               ├── 11\n",
    "│               └── 12\n",
    "│                   ├── 01\n",
    "│                   ├── 02\n",
    "│                   ...\n",
    "│                   ...\n",
    "│                   ├── 29\n",
    "│                   ├── 30\n",
    "│                   └── 31\n",
    "├── interim\n",
    "├── processed\n",
    "└── raw\n",
    "```\n",
    "\n",
    "Create and add the paths for these data sets. Verify that you have added the paths correctly."
   ]
  },
  {
   "cell_type": "markdown",
   "source": [
    "## <font color=orange>**TODO**</font>"
   ],
   "metadata": {
    "collapsed": false,
    "pycharm": {
     "name": "#%% md\n"
    }
   }
  },
  {
   "cell_type": "code",
   "execution_count": 38,
   "outputs": [
    {
     "data": {
      "text/plain": "([PurePosixPath('/data/external/nwc-wpc/forecasts/2022/01/01'),\n  PurePosixPath('/data/external/nwc-wpc/forecasts/2022/01/02'),\n  PurePosixPath('/data/external/nwc-wpc/forecasts/2022/01/03'),\n  PurePosixPath('/data/external/nwc-wpc/forecasts/2022/01/04'),\n  PurePosixPath('/data/external/nwc-wpc/forecasts/2022/01/05'),\n  PurePosixPath('/data/external/nwc-wpc/forecasts/2022/01/06'),\n  PurePosixPath('/data/external/nwc-wpc/forecasts/2022/01/07'),\n  PurePosixPath('/data/external/nwc-wpc/forecasts/2022/01/08'),\n  PurePosixPath('/data/external/nwc-wpc/forecasts/2022/01/09'),\n  PurePosixPath('/data/external/nwc-wpc/forecasts/2022/01/10')],\n 365)"
     },
     "execution_count": 38,
     "metadata": {},
     "output_type": "execute_result"
    }
   ],
   "source": [
    "forecast_dirs = set()\n",
    "# TODO: Create and add the paths for this data set\n",
    "forecast_dir = external_data_dir.joinpath('nwc-wpc','forecasts')\n",
    "start_day = datetime.date (2022,1, 1)\n",
    "end_day = datetime.date (2023,1,1)\n",
    "current_day = start_day\n",
    "while current_day < end_day:\n",
    "    forecast_dirs.add(forecast_dir.joinpath(f\"{current_day.year:04d}\", f\"{current_day.month:02d}\",f\"{current_day.day:02d}\"))\n",
    "    current_day += datetime.timedelta(days=1)\n",
    "forecast_dirs=sorted(list(forecast_dirs))\n",
    "# Should have 365 directories (366 if leap year)\n",
    "forecast_dirs[:10],len(forecast_dirs)\n"
   ],
   "metadata": {
    "collapsed": false,
    "pycharm": {
     "name": "#%%\n"
    }
   }
  },
  {
   "cell_type": "markdown",
   "metadata": {
    "pycharm": {
     "name": "#%% md\n"
    }
   },
   "source": [
    "### Assignment 5.2\n",
    "\n",
    "In the second part of the assignment, you will create the structure for the raw source data. We will use the following directory naming convention. \n",
    "\n",
    "```\n",
    "/data/raw/inventory/<location>/<year>/<month>/<day>/\n",
    "/data/raw/expenses/<location>/<year>/<month>/<day>/\n",
    "/data/raw/sales/<location>/<year>/<month>/<day>/<hour>/\n",
    "```\n",
    "For *location*, we will use the three-letter IATA code for the airport nearest to the location.  We will use the same year, month, and day convention from the previous example. For *hour*, we will use the two-digit hour value based on a 24-hour clock set to UTC. "
   ]
  },
  {
   "cell_type": "markdown",
   "metadata": {
    "pycharm": {
     "name": "#%% md\n"
    }
   },
   "source": [
    "#### Assignment 5.2.a\n",
    "\n",
    "The following is an example of the directory structure for daily data dumps. \n",
    "\n",
    "```\n",
    "data\n",
    "├── external\n",
    "├── interim\n",
    "├── processed\n",
    "└── raw\n",
    "    ├── expenses\n",
    "    ├── inventory\n",
    "    │   ├── bwi\n",
    "    │   ├── cmh\n",
    "    │   ├── den\n",
    "    │   ├── oma\n",
    "    │   │   └── 2020\n",
    "    │   │       ├── 01\n",
    "    │   │       │   ├── 01\n",
    "    │   │       │   ├── 02\n",
    "    │   │       │   ...    \n",
    "    │   │       │   └── 31\n",
    "    │   │       ├── 02\n",
    "    │   │       │   ├── 01\n",
    "    │   │       │   ...\n",
    "    │   │       │   └── 29\n",
    "    │   │       ├── 03\n",
    "    │   │       ... \n",
    "    │   │       ├── 11\n",
    "    │   │       └── 12\n",
    "    │   │           ├── 01\n",
    "    │   │           ├── 02\n",
    "    │   │           ...  \n",
    "    │   │           └── 31\n",
    "    │   └── sfo\n",
    "    └── sales\n",
    "```\n",
    "\n",
    "Create and add the paths for these data sets. Verify that you have added the paths correctly."
   ]
  },
  {
   "cell_type": "markdown",
   "source": [
    "## <font color=orange>**TODO**</font>"
   ],
   "metadata": {
    "collapsed": false,
    "pycharm": {
     "name": "#%% md\n"
    }
   }
  },
  {
   "cell_type": "code",
   "execution_count": 39,
   "outputs": [
    {
     "data": {
      "text/plain": "([PurePosixPath('/data/raw/inventory/bwi/2022/01/01'),\n  PurePosixPath('/data/raw/inventory/bwi/2022/01/02'),\n  PurePosixPath('/data/raw/inventory/bwi/2022/01/03'),\n  PurePosixPath('/data/raw/inventory/bwi/2022/01/04'),\n  PurePosixPath('/data/raw/inventory/bwi/2022/01/05'),\n  PurePosixPath('/data/raw/inventory/bwi/2022/01/06'),\n  PurePosixPath('/data/raw/inventory/bwi/2022/01/07'),\n  PurePosixPath('/data/raw/inventory/bwi/2022/01/08'),\n  PurePosixPath('/data/raw/inventory/bwi/2022/01/09'),\n  PurePosixPath('/data/raw/inventory/bwi/2022/01/10')],\n 1825)"
     },
     "execution_count": 39,
     "metadata": {},
     "output_type": "execute_result"
    }
   ],
   "source": [
    "# /data/raw/inventory/<location>/<year>/<month>/<day>/\n",
    "\n",
    "inventory_dirs = set()\n",
    "# TODO: Create and add the paths for this data set\n",
    "inventory_dir = raw_data_dir.joinpath('inventory')\n",
    "inventory_loc_dir= [inventory_dir.joinpath('bwi'),\n",
    "                inventory_dir.joinpath('cmh'),\n",
    "                inventory_dir.joinpath('den'),\n",
    "                inventory_dir.joinpath('oma'),\n",
    "                inventory_dir.joinpath('sfo')\n",
    "                ]\n",
    "start_day = datetime.date (2022,1, 1)\n",
    "end_day = datetime.date (2023,1,1)\n",
    "current_day = start_day\n",
    "\n",
    "while current_day < end_day:\n",
    "    for directory in inventory_loc_dir:\n",
    "        inventory_dirs.add(directory.joinpath(f\"{current_day.year:04d}\", f\"{current_day.month:02d}\",f\"{current_day.day:02d}\"))\n",
    "    current_day += datetime.timedelta(days=1)\n",
    "inventory_dirs=sorted(list(inventory_dirs))\n",
    "# Should have 1825 directories (1830 if leap year)\n",
    "inventory_dirs[:10],len(inventory_dirs)"
   ],
   "metadata": {
    "collapsed": false,
    "pycharm": {
     "name": "#%%\n"
    }
   }
  },
  {
   "cell_type": "markdown",
   "source": [
    "## <font color=orange>**TODO**</font>"
   ],
   "metadata": {
    "collapsed": false,
    "pycharm": {
     "name": "#%% md\n"
    }
   }
  },
  {
   "cell_type": "code",
   "execution_count": 40,
   "metadata": {
    "pycharm": {
     "name": "#%%\n"
    }
   },
   "outputs": [
    {
     "data": {
      "text/plain": "([PurePosixPath('/data/raw/expenses/bwi/2022/01/01'),\n  PurePosixPath('/data/raw/expenses/bwi/2022/01/02'),\n  PurePosixPath('/data/raw/expenses/bwi/2022/01/03'),\n  PurePosixPath('/data/raw/expenses/bwi/2022/01/04'),\n  PurePosixPath('/data/raw/expenses/bwi/2022/01/05'),\n  PurePosixPath('/data/raw/expenses/bwi/2022/01/06'),\n  PurePosixPath('/data/raw/expenses/bwi/2022/01/07'),\n  PurePosixPath('/data/raw/expenses/bwi/2022/01/08'),\n  PurePosixPath('/data/raw/expenses/bwi/2022/01/09'),\n  PurePosixPath('/data/raw/expenses/bwi/2022/01/10')],\n 1825)"
     },
     "execution_count": 40,
     "metadata": {},
     "output_type": "execute_result"
    }
   ],
   "source": [
    "expenses_dirs = set()\n",
    "# /data/raw/expenses/<location>/<year>/<month>/<day>/\n",
    "\n",
    "# TODO: Create and add the paths for this data set\n",
    "expenses_dir = raw_data_dir.joinpath('expenses')\n",
    "expenses_loc_dir= [expenses_dir.joinpath('bwi'),\n",
    "                expenses_dir.joinpath('cmh'),\n",
    "                expenses_dir.joinpath('den'),\n",
    "                expenses_dir.joinpath('oma'),\n",
    "                expenses_dir.joinpath('sfo')\n",
    "                ]\n",
    "start_day = datetime.date (2022,1, 1)\n",
    "end_day = datetime.date (2023,1,1)\n",
    "current_day = start_day\n",
    "\n",
    "while current_day < end_day:\n",
    "    for directory in expenses_loc_dir:\n",
    "        expenses_dirs.add(directory.joinpath(f\"{current_day.year:04d}\", f\"{current_day.month:02d}\",f\"{current_day.day:02d}\"))\n",
    "    current_day += datetime.timedelta(days=1)\n",
    "expenses_dirs=sorted(list(expenses_dirs))\n",
    "# Should have 1825 directories (1830 if leap year)\n",
    "expenses_dirs[:10],len(expenses_dirs)"
   ]
  },
  {
   "cell_type": "markdown",
   "metadata": {
    "pycharm": {
     "name": "#%% md\n"
    }
   },
   "source": [
    "#### Assignment 5.2.b\n",
    "\n",
    "Finally, create the paths for the hourly sales data. The following is an example of the directory structure for the sales data. \n",
    "\n",
    "```\n",
    "├── external\n",
    "├── interim\n",
    "├── processed\n",
    "└── raw\n",
    "    ├── expenses\n",
    "    ├── inventory\n",
    "    └── sales\n",
    "        ├── bwi\n",
    "        ├── cmh\n",
    "        ├── den\n",
    "        ├── oma\n",
    "        │   └── 2020\n",
    "        │       ├── 01\n",
    "        │       │   └── 01\n",
    "        │       │       ├── 00\n",
    "        │       │       ├── 01   \n",
    "        │       │       ├── 02\n",
    "        │       │       ...     \n",
    "        │       │       ├── 22\n",
    "        │       │       └── 23\n",
    "        │       ├── 02\n",
    "        │       ...\n",
    "        │       └── 12\n",
    "        └── sfo\n",
    "```"
   ]
  },
  {
   "cell_type": "markdown",
   "source": [
    "## <font color=orange>**TODO**</font>"
   ],
   "metadata": {
    "collapsed": false,
    "pycharm": {
     "name": "#%% md\n"
    }
   }
  },
  {
   "cell_type": "code",
   "execution_count": 41,
   "outputs": [
    {
     "data": {
      "text/plain": "([PurePosixPath('/data/raw/sales/bwi/2022/01/01/00'),\n  PurePosixPath('/data/raw/sales/bwi/2022/01/01/01'),\n  PurePosixPath('/data/raw/sales/bwi/2022/01/01/02'),\n  PurePosixPath('/data/raw/sales/bwi/2022/01/01/03'),\n  PurePosixPath('/data/raw/sales/bwi/2022/01/01/04'),\n  PurePosixPath('/data/raw/sales/bwi/2022/01/01/05'),\n  PurePosixPath('/data/raw/sales/bwi/2022/01/01/06'),\n  PurePosixPath('/data/raw/sales/bwi/2022/01/01/07'),\n  PurePosixPath('/data/raw/sales/bwi/2022/01/01/08'),\n  PurePosixPath('/data/raw/sales/bwi/2022/01/01/09')],\n 43800)"
     },
     "execution_count": 41,
     "metadata": {},
     "output_type": "execute_result"
    }
   ],
   "source": [
    "sales_dirs = set()\n",
    "# /data/raw/sales/<location>/<year>/<month>/<day>/<hour>/\n",
    "# TODO: Create and add the paths for this data set\n",
    "sales_dir = raw_data_dir.joinpath('sales')\n",
    "sales_loc_dir= [sales_dir.joinpath('bwi'),\n",
    "                sales_dir.joinpath('cmh'),\n",
    "                sales_dir.joinpath('den'),\n",
    "                sales_dir.joinpath('oma'),\n",
    "                sales_dir.joinpath('sfo')\n",
    "                ]\n",
    "start_day = datetime.datetime (2022,1, 1) # uses datetime.datetime to use hours\n",
    "end_day = datetime.datetime (2023,1,1)\n",
    "current_day = start_day\n",
    "\n",
    "\n",
    "while current_day < end_day:\n",
    "    for directory in sales_loc_dir:\n",
    "        sales_dirs.add(directory.joinpath(f\"{current_day.year:04d}\", f\"{current_day.month:02d}\",f\"{current_day.day:02d}\",f\"{current_day.hour:02d}\"))\n",
    "    current_day += datetime.timedelta(hours=1)\n",
    "sales_dirs=sorted(list(sales_dirs))\n",
    "# Should have 43,800 directories (43,920 if leap year)\n",
    "sales_dirs[:10],len(sales_dirs)"
   ],
   "metadata": {
    "collapsed": false,
    "pycharm": {
     "name": "#%%\n"
    }
   }
  },
  {
   "cell_type": "markdown",
   "metadata": {
    "pycharm": {
     "name": "#%% md\n"
    }
   },
   "source": [
    "### Assignment 5.3"
   ]
  },
  {
   "cell_type": "markdown",
   "metadata": {
    "pycharm": {
     "name": "#%% md\n"
    }
   },
   "source": [
    "#### Assignment 5.3.a\n",
    "\n",
    "We have two choices for structuring our weekly data set. We can use the following naming convention where the date is based on the first day of the week. \n",
    "\n",
    "```\n",
    "/data/processed/modeling/<year>/<month>/<day>/\n",
    "```\n",
    "\n",
    "Otherwise, we could use a naming convention where *week* is the number of weeks it has been since the beginning of the year. \n",
    " \n",
    "```\n",
    "/data/processed/modeling/<year>/<week>/\n",
    "```\n",
    "\n",
    "We will use the first option for our naming convention. Python's *calendar* library has a function that determines the first day of the week."
   ]
  },
  {
   "cell_type": "markdown",
   "source": [
    "## <font color=orange>**TODO**</font>"
   ],
   "metadata": {
    "collapsed": false,
    "pycharm": {
     "name": "#%% md\n"
    }
   }
  },
  {
   "cell_type": "code",
   "execution_count": 42,
   "outputs": [
    {
     "data": {
      "text/plain": "([PurePosixPath('/data/processed/modeling/2022/01/03'),\n  PurePosixPath('/data/processed/modeling/2022/01/10'),\n  PurePosixPath('/data/processed/modeling/2022/01/17'),\n  PurePosixPath('/data/processed/modeling/2022/01/24'),\n  PurePosixPath('/data/processed/modeling/2022/01/31'),\n  PurePosixPath('/data/processed/modeling/2022/02/07'),\n  PurePosixPath('/data/processed/modeling/2022/02/14'),\n  PurePosixPath('/data/processed/modeling/2022/02/21'),\n  PurePosixPath('/data/processed/modeling/2022/02/28'),\n  PurePosixPath('/data/processed/modeling/2022/03/07')],\n 52)"
     },
     "execution_count": 42,
     "metadata": {},
     "output_type": "execute_result"
    }
   ],
   "source": [
    "# /data/processed/modeling/<year>/<month>/<day>/\n",
    "modeling_data_dirs = set()\n",
    "modeling_data_dir = processed_data_dir.joinpath('modeling')\n",
    "\n",
    "mod_year = 2022\n",
    "cal = calendar.Calendar()\n",
    "\n",
    "for month in range(1, 13):\n",
    "    for week in cal.monthdatescalendar(mod_year, month):\n",
    "        first_day = week[0]\n",
    "        if first_day.year == mod_year: #keeps every thing in 2022\n",
    "            modeling_data_dirs.add(modeling_data_dir.joinpath(f\"{first_day.year:04d}\", f\"{first_day.month:02d}\", f\"{first_day.day:02d}\"))\n",
    "            current_day += datetime.timedelta(weeks=1)\n",
    "modeling_data_dirs = sorted(list(modeling_data_dirs))\n",
    "# Should have 52 directories\n",
    "modeling_data_dirs[:10], len(modeling_data_dirs)"
   ],
   "metadata": {
    "collapsed": false,
    "pycharm": {
     "name": "#%%\n"
    }
   }
  },
  {
   "cell_type": "markdown",
   "metadata": {
    "pycharm": {
     "name": "#%% md\n"
    }
   },
   "source": [
    "#### Assignment 5.3.b\n",
    "\n",
    "Next, create the monthly inventory requests using the following convention. \n",
    "\n",
    "```\n",
    "/data/processed/inventory/requests/<year>/<month>/\n",
    "```"
   ]
  },
  {
   "cell_type": "markdown",
   "source": [
    "## <font color=orange>**TODO**</font>"
   ],
   "metadata": {
    "collapsed": false,
    "pycharm": {
     "name": "#%% md\n"
    }
   }
  },
  {
   "cell_type": "code",
   "execution_count": 43,
   "metadata": {
    "pycharm": {
     "name": "#%%\n"
    }
   },
   "outputs": [
    {
     "data": {
      "text/plain": "({PurePosixPath('/data/processed/inventory/requests/2022/01'),\n  PurePosixPath('/data/processed/inventory/requests/2022/02'),\n  PurePosixPath('/data/processed/inventory/requests/2022/03'),\n  PurePosixPath('/data/processed/inventory/requests/2022/04'),\n  PurePosixPath('/data/processed/inventory/requests/2022/05'),\n  PurePosixPath('/data/processed/inventory/requests/2022/06'),\n  PurePosixPath('/data/processed/inventory/requests/2022/07'),\n  PurePosixPath('/data/processed/inventory/requests/2022/08'),\n  PurePosixPath('/data/processed/inventory/requests/2022/09'),\n  PurePosixPath('/data/processed/inventory/requests/2022/10'),\n  PurePosixPath('/data/processed/inventory/requests/2022/11'),\n  PurePosixPath('/data/processed/inventory/requests/2022/12')},\n 12)"
     },
     "execution_count": 43,
     "metadata": {},
     "output_type": "execute_result"
    }
   ],
   "source": [
    "# /data/processed/inventory/requests/<year>/<month>/\n",
    "inventory_request_dirs = set()\n",
    "inventory_request_dir = processed_data_dir.joinpath('inventory','requests')\n",
    "# TODO: Create and add the paths for this data set\n",
    "for month in range(1, 13):\n",
    "    inventory_request_dirs.add(inventory_request_dir.joinpath(f\"{2022:04d}\", f\"{month:02d}\"))\n",
    " # Should output 12 directories\n",
    "inventory_request_dirs, len(inventory_request_dirs)"
   ]
  },
  {
   "cell_type": "markdown",
   "metadata": {
    "pycharm": {
     "name": "#%% md\n"
    }
   },
   "source": [
    "#### Assignment 5.3.c\n",
    "\n",
    "Finally, create the quarterly financial reports using the following convention. \n",
    "\n",
    "```\n",
    "`/data/processed/financials/quarterly/<year>/<quarter>/`\n",
    "```\n",
    "While it does not matter for this assignment, the following are the typical dates associated with financial quarters."
   ]
  },
  {
   "cell_type": "markdown",
   "source": [
    "## <font color=orange>**TODO**</font>"
   ],
   "metadata": {
    "collapsed": false,
    "pycharm": {
     "name": "#%% md\n"
    }
   }
  },
  {
   "cell_type": "code",
   "execution_count": 44,
   "metadata": {
    "pycharm": {
     "name": "#%%\n"
    }
   },
   "outputs": [
    {
     "data": {
      "text/plain": "({PurePosixPath('/data/processed/financials/quarterly/2022/01'),\n  PurePosixPath('/data/processed/financials/quarterly/2022/02'),\n  PurePosixPath('/data/processed/financials/quarterly/2022/03'),\n  PurePosixPath('/data/processed/financials/quarterly/2022/04')},\n 4)"
     },
     "execution_count": 44,
     "metadata": {},
     "output_type": "execute_result"
    }
   ],
   "source": [
    "# `/data/processed/financials/quarterly/<year>/<quarter>/`\n",
    "financials_dirs = set()\n",
    "financials_dir = processed_data_dir.joinpath('financials','quarterly')\n",
    "# TODO: Create and add the paths for this data set\n",
    "for quarter in range(1, 5):\n",
    "    financials_dirs.add(financials_dir.joinpath(f\"{2022:04d}\", f\"{quarter:02d}\"))\n",
    "# Should output four quarterly directories\n",
    "financials_dirs, len(financials_dirs)"
   ]
  }
 ],
 "metadata": {
  "kernelspec": {
   "display_name": "Python 3 (ipykernel)",
   "language": "python",
   "name": "python3"
  },
  "language_info": {
   "codemirror_mode": {
    "name": "ipython",
    "version": 3
   },
   "file_extension": ".py",
   "mimetype": "text/x-python",
   "name": "python",
   "nbconvert_exporter": "python",
   "pygments_lexer": "ipython3",
   "version": "3.9.7"
  }
 },
 "nbformat": 4,
 "nbformat_minor": 4
}