{
 "cells": [
  {
   "cell_type": "markdown",
   "source": [
    "# **3.2 Exercise Assignment 4**\n",
    "# Michael J. Montana\n",
    "# College of Science and Tecnology, Bellevue University\n",
    "# DSC400: Big Data, Technology, and Algorithms\n",
    "# Professor Shawn Hermans\n",
    "# June 25 2023"
   ],
   "metadata": {
    "collapsed": false,
    "pycharm": {
     "name": "#%% md\n"
    }
   }
  },
  {
   "cell_type": "markdown",
   "metadata": {
    "pycharm": {
     "name": "#%% md\n"
    }
   },
   "source": [
    "# Working with NoSQL Databases"
   ]
  },
  {
   "cell_type": "markdown",
   "metadata": {
    "tags": [],
    "pycharm": {
     "name": "#%% md\n"
    }
   },
   "source": [
    "## Assignment 4\n",
    "\n",
    "In this assignment, you will work with examples of NoSQL databases. It includes implementing a simple in-memory key-value database in Python, using an embedded document-oriented database, and working with a graph database. \n",
    "\n",
    "The `people` dictionary contains the data you will use for this assignment. "
   ]
  },
  {
   "cell_type": "code",
   "execution_count": 11,
   "metadata": {
    "pycharm": {
     "name": "#%%\n"
    }
   },
   "outputs": [],
   "source": [
    "people = [{'username': 'ryanandrew',\n",
    "  'name': 'Lisa Weber',\n",
    "  'age': 64,\n",
    "  'follows': ['jill95', 'jeffrey39']},\n",
    " {'username': 'robertkirk',\n",
    "  'name': 'Austin Harris',\n",
    "  'age': 21,\n",
    "  'follows': ['achen', 'stricklandheather']},\n",
    " {'username': 'jill95',\n",
    "  'name': 'Jason Tran',\n",
    "  'age': 72,\n",
    "  'follows': ['paul31', 'achen', 'uguerrero', 'murphydanny']},\n",
    " {'username': 'uguerrero',\n",
    "  'name': 'Jason Marshall',\n",
    "  'age': 45,\n",
    "  'follows': ['ryanandrew', 'achen']},\n",
    " {'username': 'pparker',\n",
    "  'name': 'Aaron Elliott',\n",
    "  'age': 21,\n",
    "  'follows': ['paul31']},\n",
    " {'username': 'xwilliams',\n",
    "  'name': 'John Dudley',\n",
    "  'age': 12,\n",
    "  'follows': ['ryanandrew', 'foleyangela', 'jeffrey39', 'alisonkeith']},\n",
    " {'username': 'kerrjulie',\n",
    "  'name': 'Charles Roberts',\n",
    "  'age': 35,\n",
    "  'follows': ['paul31']},\n",
    " {'username': 'stricklandheather',\n",
    "  'name': 'Sherry Nguyen',\n",
    "  'age': 27,\n",
    "  'follows': ['paul31', 'alisonkeith']},\n",
    " {'username': 'achen',\n",
    "  'name': 'Dwayne Hanson',\n",
    "  'age': 86,\n",
    "  'follows': ['uguerrero', 'xwilliams']},\n",
    " {'username': 'jeffrey39',\n",
    "  'name': 'James Henderson',\n",
    "  'age': 11,\n",
    "  'follows': ['murphydanny']},\n",
    " {'username': 'alisonkeith',\n",
    "  'name': 'Jordan Jordan',\n",
    "  'age': 39,\n",
    "  'follows': ['uguerrero']},\n",
    " {'username': 'murphydanny',\n",
    "  'name': 'Cindy Brown',\n",
    "  'age': 37,\n",
    "  'follows': ['ryanandrew', 'foleyangela', 'achen']},\n",
    " {'username': 'mgiles',\n",
    "  'name': 'Dawn Lopez',\n",
    "  'age': 44,\n",
    "  'follows': ['ryanandrew']},\n",
    " {'username': 'paul31',\n",
    "  'name': 'Jesus Thomas',\n",
    "  'age': 18,\n",
    "  'follows': ['robertkirk']},\n",
    " {'username': 'foleyangela',\n",
    "  'name': 'Juan Wood',\n",
    "  'age': 59,\n",
    "  'follows': ['achen', 'jeffrey39']}]"
   ]
  },
  {
   "cell_type": "markdown",
   "metadata": {
    "pycharm": {
     "name": "#%% md\n"
    }
   },
   "source": [
    "### Assignment 4.1\n",
    "\n",
    "Implement a simple, in-memory key-value database using the skeleton code provided below. Insert all the `people` values with the `username` as the key and the entire profile as the value. Test `insert`, `fetch`, and `delete` to ensure they work properly."
   ]
  },
  {
   "cell_type": "markdown",
   "source": [
    "## <font color=orange>**TODO**</font>"
   ],
   "metadata": {
    "collapsed": false,
    "pycharm": {
     "name": "#%% md\n"
    }
   }
  },
  {
   "cell_type": "code",
   "execution_count": 12,
   "metadata": {
    "pycharm": {
     "name": "#%%\n"
    }
   },
   "outputs": [],
   "source": [
    "class SimpleDB:\n",
    "    def __init__(self):\n",
    "        self.db = dict()\n",
    "\n",
    "    def insert(self, key, value):\n",
    "        \"\"\"\n",
    "        Inserts a new value into the database\n",
    "        :param key: the key to insert\n",
    "        :param value: the value to insert\n",
    "        :return: True if value inserted, False if not\n",
    "        \"\"\"\n",
    "        if key in self.db:\n",
    "            return False\n",
    "        self.db[key] = value\n",
    "        return True\n",
    "\n",
    "    def delete(self, key):\n",
    "        \"\"\"\n",
    "        :param key: key to delete\n",
    "        :return: True if value deleted, False if not\n",
    "        \"\"\"\n",
    "        if key in self.db:\n",
    "            del self.db[key]\n",
    "            return True\n",
    "        return False\n",
    "\n",
    "\n",
    "    def fetch(self, key):\n",
    "        \"\"\"\n",
    "        Fetches value associated with key\n",
    "\n",
    "        :param key: key whose value to fetch\n",
    "        :return: Value associated with key, \n",
    "        None if no value associated with key\n",
    "        \"\"\"\n",
    "        if key in self.db:\n",
    "            return self.db[key]\n",
    "        return print(None)\n",
    "    \n",
    "simple_db = SimpleDB()"
   ]
  },
  {
   "cell_type": "code",
   "execution_count": 13,
   "outputs": [
    {
     "data": {
      "text/plain": "True"
     },
     "execution_count": 13,
     "metadata": {},
     "output_type": "execute_result"
    }
   ],
   "source": [
    "ryanandrew_profile = people[0]\n",
    "simple_db.insert('ryanandrew', ryanandrew_profile)"
   ],
   "metadata": {
    "collapsed": false,
    "pycharm": {
     "name": "#%%\n"
    }
   }
  },
  {
   "cell_type": "code",
   "execution_count": 14,
   "outputs": [
    {
     "data": {
      "text/plain": "{'username': 'ryanandrew',\n 'name': 'Lisa Weber',\n 'age': 64,\n 'follows': ['jill95', 'jeffrey39']}"
     },
     "execution_count": 14,
     "metadata": {},
     "output_type": "execute_result"
    }
   ],
   "source": [
    "simple_db.fetch('ryanandrew')"
   ],
   "metadata": {
    "collapsed": false,
    "pycharm": {
     "name": "#%%\n"
    }
   }
  },
  {
   "cell_type": "code",
   "execution_count": 15,
   "outputs": [
    {
     "data": {
      "text/plain": "True"
     },
     "execution_count": 15,
     "metadata": {},
     "output_type": "execute_result"
    }
   ],
   "source": [
    "simple_db.delete('ryanandrew')"
   ],
   "metadata": {
    "collapsed": false,
    "pycharm": {
     "name": "#%%\n"
    }
   }
  },
  {
   "cell_type": "code",
   "execution_count": 16,
   "outputs": [
    {
     "name": "stdout",
     "output_type": "stream",
     "text": [
      "None\n"
     ]
    }
   ],
   "source": [
    "simple_db.fetch('ryanandrew')"
   ],
   "metadata": {
    "collapsed": false,
    "pycharm": {
     "name": "#%%\n"
    }
   }
  },
  {
   "cell_type": "markdown",
   "metadata": {
    "pycharm": {
     "name": "#%% md\n"
    }
   },
   "source": [
    "When implemented correctly, the following code should return `True`:\n",
    "\n",
    "```python\n",
    "ryanandrew_profile = people[0]\n",
    "simple_db.insert('ryanandrew', ryanandrew_profile)\n",
    "```\n",
    "After inserting the profile, you should be able to fetch the profile using:\n",
    "\n",
    "```python\n",
    "simple_db.fetch('ryanandrew')\n",
    "```\n",
    "This code should return:\n",
    "\n",
    "```json\n",
    "{'username': 'ryanandrew',\n",
    "  'name': 'Lisa Weber',\n",
    "  'age': 64,\n",
    "  'follows': ['jill95', 'jeffrey39']}\n",
    "```\n",
    "\n",
    "Performing a delete following by a fetch should return `None`. \n",
    "\n",
    "```python\n",
    "simple_db.delete('ryanandrew')\n",
    "simple_db.fetch('ryanandrew')\n",
    "```"
   ]
  },
  {
   "cell_type": "markdown",
   "metadata": {
    "pycharm": {
     "name": "#%% md\n"
    }
   },
   "source": [
    "### Assignment 4.2\n",
    "\n",
    "Next, you will use the same dataset with a document-oriented database called TinyDB. See the [TinyDB documentation](https://tinydb.readthedocs.io/en/latest/) and [TinyDB getting started](https://tinydb.readthedocs.io/en/latest/getting-started.html) for details on how to use TinyDB. While this database does not have the features of a full document database, such as MongoDB, it should provide an overview of the basics of document databases. \n",
    "\n",
    "The following code creates a TinyDB database in the `output` folder. It creates the `output` folder if it does not exist. "
   ]
  },
  {
   "cell_type": "code",
   "execution_count": 17,
   "metadata": {
    "pycharm": {
     "name": "#%%\n"
    }
   },
   "outputs": [],
   "source": [
    "from pathlib import Path\n",
    "from tinydb import TinyDB, Query\n",
    "\n",
    "output_dir = Path('output')\n",
    "output_dir.mkdir(parents=True, exist_ok=True)\n",
    "db_path = output_dir.joinpath('tinydb-people.json')\n",
    "\n",
    "people_db = TinyDB(db_path)\n",
    "\n",
    "# Clears any existing data in the database\n",
    "people_db.truncate()"
   ]
  },
  {
   "cell_type": "markdown",
   "metadata": {
    "pycharm": {
     "name": "#%% md\n"
    }
   },
   "source": [
    "#### Assignment 4.2.a\n",
    "\n",
    "Insert all entries from the `people` dataset into the newly created database."
   ]
  },
  {
   "cell_type": "markdown",
   "source": [
    "## <font color=orange>**TODO**</font>"
   ],
   "metadata": {
    "collapsed": false,
    "pycharm": {
     "name": "#%% md\n"
    }
   },
   "execution_count": 1
  },
  {
   "cell_type": "code",
   "execution_count": 18,
   "metadata": {
    "pycharm": {
     "name": "#%%\n"
    }
   },
   "outputs": [
    {
     "data": {
      "text/plain": "[1, 2, 3, 4, 5, 6, 7, 8, 9, 10, 11, 12, 13, 14, 15]"
     },
     "execution_count": 18,
     "metadata": {},
     "output_type": "execute_result"
    }
   ],
   "source": [
    "# TODO: Insert `people` data into `people_db`\n",
    "people_db.insert_multiple(people)"
   ]
  },
  {
   "cell_type": "code",
   "execution_count": 19,
   "outputs": [
    {
     "name": "stdout",
     "output_type": "stream",
     "text": [
      "{'username': 'ryanandrew', 'name': 'Lisa Weber', 'age': 64, 'follows': ['jill95', 'jeffrey39']}\n",
      "{'username': 'robertkirk', 'name': 'Austin Harris', 'age': 21, 'follows': ['achen', 'stricklandheather']}\n",
      "{'username': 'jill95', 'name': 'Jason Tran', 'age': 72, 'follows': ['paul31', 'achen', 'uguerrero', 'murphydanny']}\n",
      "{'username': 'uguerrero', 'name': 'Jason Marshall', 'age': 45, 'follows': ['ryanandrew', 'achen']}\n",
      "{'username': 'pparker', 'name': 'Aaron Elliott', 'age': 21, 'follows': ['paul31']}\n",
      "{'username': 'xwilliams', 'name': 'John Dudley', 'age': 12, 'follows': ['ryanandrew', 'foleyangela', 'jeffrey39', 'alisonkeith']}\n",
      "{'username': 'kerrjulie', 'name': 'Charles Roberts', 'age': 35, 'follows': ['paul31']}\n",
      "{'username': 'stricklandheather', 'name': 'Sherry Nguyen', 'age': 27, 'follows': ['paul31', 'alisonkeith']}\n",
      "{'username': 'achen', 'name': 'Dwayne Hanson', 'age': 86, 'follows': ['uguerrero', 'xwilliams']}\n",
      "{'username': 'jeffrey39', 'name': 'James Henderson', 'age': 11, 'follows': ['murphydanny']}\n",
      "{'username': 'alisonkeith', 'name': 'Jordan Jordan', 'age': 39, 'follows': ['uguerrero']}\n",
      "{'username': 'murphydanny', 'name': 'Cindy Brown', 'age': 37, 'follows': ['ryanandrew', 'foleyangela', 'achen']}\n",
      "{'username': 'mgiles', 'name': 'Dawn Lopez', 'age': 44, 'follows': ['ryanandrew']}\n",
      "{'username': 'paul31', 'name': 'Jesus Thomas', 'age': 18, 'follows': ['robertkirk']}\n",
      "{'username': 'foleyangela', 'name': 'Juan Wood', 'age': 59, 'follows': ['achen', 'jeffrey39']}\n"
     ]
    }
   ],
   "source": [
    "for document in people_db:\n",
    "    print(document)"
   ],
   "metadata": {
    "collapsed": false,
    "pycharm": {
     "name": "#%%\n"
    }
   }
  },
  {
   "cell_type": "markdown",
   "metadata": {
    "pycharm": {
     "name": "#%% md\n"
    }
   },
   "source": [
    "#### Assignment 4.2.b\n",
    "\n",
    "Perform a search that returns all people older than 40 and assign the results to `over_40_results`."
   ]
  },
  {
   "cell_type": "markdown",
   "source": [
    "## <font color=orange>**TODO**</font>"
   ],
   "metadata": {
    "collapsed": false,
    "pycharm": {
     "name": "#%% md\n"
    }
   }
  },
  {
   "cell_type": "code",
   "execution_count": 20,
   "metadata": {
    "pycharm": {
     "name": "#%%\n"
    }
   },
   "outputs": [
    {
     "name": "stdout",
     "output_type": "stream",
     "text": [
      "{'username': 'ryanandrew', 'name': 'Lisa Weber', 'age': 64, 'follows': ['jill95', 'jeffrey39']}\n",
      "{'username': 'jill95', 'name': 'Jason Tran', 'age': 72, 'follows': ['paul31', 'achen', 'uguerrero', 'murphydanny']}\n",
      "{'username': 'uguerrero', 'name': 'Jason Marshall', 'age': 45, 'follows': ['ryanandrew', 'achen']}\n",
      "{'username': 'achen', 'name': 'Dwayne Hanson', 'age': 86, 'follows': ['uguerrero', 'xwilliams']}\n",
      "{'username': 'mgiles', 'name': 'Dawn Lopez', 'age': 44, 'follows': ['ryanandrew']}\n",
      "{'username': 'foleyangela', 'name': 'Juan Wood', 'age': 59, 'follows': ['achen', 'jeffrey39']}\n"
     ]
    }
   ],
   "source": [
    "# TODO: Perform a search for that returns all people older than 40\n",
    "person = Query()\n",
    "over_40_results = people_db.search(person.age > 40)\n",
    "for document in over_40_results:\n",
    "    print(document)"
   ]
  },
  {
   "cell_type": "markdown",
   "metadata": {
    "pycharm": {
     "name": "#%% md\n"
    }
   },
   "source": [
    "#### Assignment 4.2.c\n",
    "\n",
    "Remove all people older than 40 from the database. Verify removal by performing an additional search."
   ]
  },
  {
   "cell_type": "markdown",
   "source": [
    "## <font color=orange>**TODO**</font>"
   ],
   "metadata": {
    "collapsed": false,
    "pycharm": {
     "name": "#%% md\n"
    }
   }
  },
  {
   "cell_type": "code",
   "execution_count": 21,
   "metadata": {
    "pycharm": {
     "name": "#%%\n"
    }
   },
   "outputs": [
    {
     "name": "stdout",
     "output_type": "stream",
     "text": [
      "{'username': 'robertkirk', 'name': 'Austin Harris', 'age': 21, 'follows': ['achen', 'stricklandheather']}\n",
      "{'username': 'pparker', 'name': 'Aaron Elliott', 'age': 21, 'follows': ['paul31']}\n",
      "{'username': 'xwilliams', 'name': 'John Dudley', 'age': 12, 'follows': ['ryanandrew', 'foleyangela', 'jeffrey39', 'alisonkeith']}\n",
      "{'username': 'kerrjulie', 'name': 'Charles Roberts', 'age': 35, 'follows': ['paul31']}\n",
      "{'username': 'stricklandheather', 'name': 'Sherry Nguyen', 'age': 27, 'follows': ['paul31', 'alisonkeith']}\n",
      "{'username': 'jeffrey39', 'name': 'James Henderson', 'age': 11, 'follows': ['murphydanny']}\n",
      "{'username': 'alisonkeith', 'name': 'Jordan Jordan', 'age': 39, 'follows': ['uguerrero']}\n",
      "{'username': 'murphydanny', 'name': 'Cindy Brown', 'age': 37, 'follows': ['ryanandrew', 'foleyangela', 'achen']}\n",
      "{'username': 'paul31', 'name': 'Jesus Thomas', 'age': 18, 'follows': ['robertkirk']}\n"
     ]
    }
   ],
   "source": [
    "# TODO: Remove all people older than 40 from the database\n",
    "person=Query()\n",
    "people_db.remove(person.age>40)\n",
    "for document in people_db:\n",
    "    print(document)\n"
   ]
  },
  {
   "cell_type": "markdown",
   "metadata": {
    "pycharm": {
     "name": "#%% md\n"
    }
   },
   "source": [
    "### Assignment 4.3\n",
    "\n",
    "Lastly, we will insert the `people` data into [cog](https://arun1729.github.io/cog/), an embedded graph database implemented purely in Python. It does not provide the features of other graph databases, such as Neo4j or DGraph, but should provide an overview of the basics of graph databases. "
   ]
  },
  {
   "cell_type": "markdown",
   "metadata": {
    "pycharm": {
     "name": "#%% md\n"
    }
   },
   "source": [
    "#### Assignment 4.3.a\n",
    "\n",
    "Insert the `people` dataset into the graph `g`.   For instance, you can add the first entry using the following code. \n",
    "\n",
    "```python\n",
    "g.put(\"ryanandrew\", \"follows\", \"jill95\")\n",
    "g.put(\"ryanandrew\", \"follows\", \"jeffrey39\")\n",
    "```\n",
    "\n",
    "Display the relationships between people using the following code. \n",
    "\n",
    "```python\n",
    "g.v().tag(\"from\").out(\"follows\").tag(\"to\").view(\"follows\").render()\n",
    "```"
   ]
  },
  {
   "cell_type": "markdown",
   "source": [
    "## <font color=orange>**TODO**</font>"
   ],
   "metadata": {
    "collapsed": false,
    "pycharm": {
     "name": "#%% md\n"
    }
   }
  },
  {
   "cell_type": "code",
   "execution_count": 22,
   "metadata": {
    "pycharm": {
     "name": "#%%\n"
    }
   },
   "outputs": [
    {
     "data": {
      "text/plain": "<IPython.core.display.HTML object>",
      "text/html": "  <iframe srcdoc='\n<!DOCTYPE html>\n<html lang=\"en\">\n  <head>\n    <title>Cog Graph</title>\n    <style type=\"text/css\">\n       body {\n        padding: 0;\n        margin: 0;\n        width: 100%;!important; \n        height: 100%;!important; \n      }\n\n      #cog-graph-view {\n        width: 700px;\n        height: 700px;\n      }\n    </style>\n\n\n    <script\n      type=\"text/javascript\"\n      src=\"https://cdnjs.cloudflare.com/ajax/libs/vis-network/9.1.2/dist/vis-network.min.js\"\n    ></script>\n  </head>  \n \n  <body>\n    <div id=\"cog-graph-view\"></div>\n\n    <script type=\"text/javascript\">\n\n    results =[{\"id\": \"alisonkeith\", \"from\": \"stricklandheather\", \"to\": \"alisonkeith\"}, {\"id\": \"paul31\", \"from\": \"stricklandheather\", \"to\": \"paul31\"}, {\"id\": \"jeffrey39\", \"from\": \"foleyangela\", \"to\": \"jeffrey39\"}, {\"id\": \"achen\", \"from\": \"foleyangela\", \"to\": \"achen\"}, {\"id\": \"paul31\", \"from\": \"pparker\", \"to\": \"paul31\"}, {\"id\": \"achen\", \"from\": \"uguerrero\", \"to\": \"achen\"}, {\"id\": \"ryanandrew\", \"from\": \"uguerrero\", \"to\": \"ryanandrew\"}, {\"id\": \"murphydanny\", \"from\": \"jeffrey39\", \"to\": \"murphydanny\"}, {\"id\": \"achen\", \"from\": \"murphydanny\", \"to\": \"achen\"}, {\"id\": \"foleyangela\", \"from\": \"murphydanny\", \"to\": \"foleyangela\"}, {\"id\": \"ryanandrew\", \"from\": \"murphydanny\", \"to\": \"ryanandrew\"}, {\"id\": \"jeffrey39\", \"from\": \"ryanandrew\", \"to\": \"jeffrey39\"}, {\"id\": \"jill95\", \"from\": \"ryanandrew\", \"to\": \"jill95\"}, {\"id\": \"uguerrero\", \"from\": \"alisonkeith\", \"to\": \"uguerrero\"}, {\"id\": \"xwilliams\", \"from\": \"achen\", \"to\": \"xwilliams\"}, {\"id\": \"uguerrero\", \"from\": \"achen\", \"to\": \"uguerrero\"}, {\"id\": \"stricklandheather\", \"from\": \"robertkirk\", \"to\": \"stricklandheather\"}, {\"id\": \"achen\", \"from\": \"robertkirk\", \"to\": \"achen\"}, {\"id\": \"alisonkeith\", \"from\": \"xwilliams\", \"to\": \"alisonkeith\"}, {\"id\": \"jeffrey39\", \"from\": \"xwilliams\", \"to\": \"jeffrey39\"}, {\"id\": \"foleyangela\", \"from\": \"xwilliams\", \"to\": \"foleyangela\"}, {\"id\": \"ryanandrew\", \"from\": \"xwilliams\", \"to\": \"ryanandrew\"}, {\"id\": \"murphydanny\", \"from\": \"jill95\", \"to\": \"murphydanny\"}, {\"id\": \"uguerrero\", \"from\": \"jill95\", \"to\": \"uguerrero\"}, {\"id\": \"achen\", \"from\": \"jill95\", \"to\": \"achen\"}, {\"id\": \"paul31\", \"from\": \"jill95\", \"to\": \"paul31\"}, {\"id\": \"ryanandrew\", \"from\": \"mgiles\", \"to\": \"ryanandrew\"}, {\"id\": \"robertkirk\", \"from\": \"paul31\", \"to\": \"robertkirk\"}, {\"id\": \"paul31\", \"from\": \"kerrjulie\", \"to\": \"paul31\"}] \n\n    var nodes = new vis.DataSet();\n    var edges = new vis.DataSet();\n    for (let i = 0; i < results.length; i++) {\n        res = results[i];\n        nodes.update({\n            id: res.from,\n            label: res.from\n        });\n        nodes.update({\n            id: res.to,\n            label: res.to\n        });\n        edges.update({\n            from: res.from,\n            to: res.to\n        });\n\n    }\n\n    var container = document.getElementById(\"cog-graph-view\");\n    var data = {\n        nodes: nodes,\n        edges: edges,\n    };\n    var options = {\n        nodes: {\n            font: {\n                size: 20,\n                color: \"black\"\n            },\n            color: \"#46944f\",\n            shape: \"dot\",\n            widthConstraint: 200,\n\n        },\n        edges: {\n            font: \"12px arial #ff0000\",\n            scaling: {\n                label: true,\n            },\n            shadow: true,\n            smooth: true,\n            arrows: { to: {enabled: true}}\n        },\n        physics: {\n            barnesHut: {\n                gravitationalConstant: -30000\n            },\n            stabilization: {\n                iterations: 1000\n            },\n        }\n\n    };\n    var network = new vis.Network(container, data, options);\n    </script>\n  </body>\n</html>\n\n' width=\"700\" height=\"700\"> </iframe> "
     },
     "metadata": {},
     "output_type": "display_data"
    }
   ],
   "source": [
    "# TODO: Load `people` into the graph and display the follower graph\n",
    "\n",
    "from cog.torque import Graph\n",
    "g = Graph(\"people\")\n",
    "g.put(\"ryanandrew\", \"follows\", \"jill95\")\n",
    "g.put(\"ryanandrew\", \"follows\", \"jeffrey39\")\n",
    "g.put(\"robertkirk\", \"follows\", \"achen\")\n",
    "g.put(\"robertkirk\", \"follows\", \"stricklandheather\")\n",
    "g.put(\"ryanandrew\", \"foleyangela\", \"achen\")\n",
    "g.put(\"ryanandrew\", \"foleyangela\", \"jeffrey39\")\n",
    "g.put(\"paul31\", \"follows\", \"robertkirk\")\n",
    "g.put(\"mgiles\", \"follows\", \"ryanandrew\")\n",
    "g.put(\"murphydanny\", \"follows\", \"ryanandrew\")\n",
    "g.put(\"murphydanny\", \"follows\", \"foleyangela\")\n",
    "g.put(\"murphydanny\", \"follows\", \"achen\")\n",
    "g.put(\"alisonkeith\", \"follows\", \"uguerrero\")\n",
    "g.put(\"jeffrey39\", \"follows\", \"murphydanny\")\n",
    "g.put(\"achen\", \"follows\", \"uguerrero\")\n",
    "g.put(\"achen\", \"follows\", \"xwilliams\")\n",
    "g.put(\"jill95\", \"follows\", \"paul31\")\n",
    "g.put(\"jill95\", \"follows\", \"achen\")\n",
    "g.put(\"jill95\", \"follows\", \"uguerrero\")\n",
    "g.put(\"jill95\", \"follows\", \"murphydanny\")\n",
    "g.put(\"uguerrero\", \"follows\", \"ryanandrew\")\n",
    "g.put(\"uguerrero\", \"follows\", \"achen\")\n",
    "g.put(\"pparker\", \"follows\", \"paul31\")\n",
    "g.put(\"xwilliams\", \"follows\", \"ryanandrew\")\n",
    "g.put(\"xwilliams\", \"follows\", \"foleyangela\")\n",
    "g.put(\"xwilliams\", \"follows\", \"jeffrey39\")\n",
    "g.put(\"xwilliams\", \"follows\", \"alisonkeith\")\n",
    "g.put(\"kerrjulie\", \"follows\", \"paul31\")\n",
    "g.put(\"stricklandheather\", \"follows\", \"paul31\")\n",
    "g.put(\"stricklandheather\", \"follows\", \"alisonkeith\")\n",
    "\n",
    "g.v().tag(\"from\").out(\"follows\").tag(\"to\").view(\"follows\").render()"
   ]
  },
  {
   "cell_type": "markdown",
   "metadata": {
    "pycharm": {
     "name": "#%% md\n"
    }
   },
   "source": [
    "#### Assignment 4.3.b\n",
    "\n",
    "Find the usernames of people who follow `murphydanny`."
   ]
  },
  {
   "cell_type": "markdown",
   "source": [
    "## <font color=orange>**TODO**</font>"
   ],
   "metadata": {
    "collapsed": false,
    "pycharm": {
     "name": "#%% md\n"
    }
   }
  },
  {
   "cell_type": "code",
   "execution_count": 23,
   "metadata": {
    "pycharm": {
     "name": "#%%\n"
    }
   },
   "outputs": [
    {
     "data": {
      "text/plain": "[{'result': [{'id': 'jeffrey39'}, {'id': 'jill95'}]}]"
     },
     "execution_count": 23,
     "metadata": {},
     "output_type": "execute_result"
    }
   ],
   "source": [
    "# TODO: Find the usernames of people who follow `murphydanny`\n",
    "murphydanny_followers = []\n",
    "murphydanny_followers = [g.v().has('follows', 'murphydanny').all()] #https://cogdb.io/examples/#try-this-example-online-in-the-playground\n",
    "murphydanny_followers"
   ]
  }
 ],
 "metadata": {
  "kernelspec": {
   "display_name": "Python 3 (ipykernel)",
   "language": "python",
   "name": "python3"
  },
  "language_info": {
   "codemirror_mode": {
    "name": "ipython",
    "version": 3
   },
   "file_extension": ".py",
   "mimetype": "text/x-python",
   "name": "python",
   "nbconvert_exporter": "python",
   "pygments_lexer": "ipython3",
   "version": "3.9.7"
  }
 },
 "nbformat": 4,
 "nbformat_minor": 4
}