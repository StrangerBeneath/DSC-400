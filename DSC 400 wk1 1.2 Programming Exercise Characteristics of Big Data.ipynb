{
 "cells": [
  {
   "cell_type": "markdown",
   "source": [
    "# **1.2 Exercise**\n",
    "Michael J. Montana\n",
    "College of Science and Tecnology, Bellevue University\n",
    "DSC400: Big Data, Technology, and Algorithms\n",
    "Professor Shawn Hermans\n",
    "June 11 2023"
   ],
   "metadata": {
    "collapsed": false,
    "pycharm": {
     "name": "#%% md\n"
    }
   }
  },
  {
   "cell_type": "markdown",
   "metadata": {
    "pycharm": {
     "name": "#%% md\n"
    }
   },
   "source": [
    "# Characteristics of Big Data"
   ]
  },
  {
   "cell_type": "markdown",
   "metadata": {
    "pycharm": {
     "name": "#%% md\n"
    }
   },
   "source": [
    "## Assignment 1\n",
    "\n",
    "In this assignment, you will calculate the estimated sizes of big data sets and the latency involved in transmitting data. \n",
    "\n",
    "This notebook contains the skeleton necessary for you to complete the assignment.  Look for comments that include `# TODO:` for sections that you need to complete. This notebook also contains the functions `check_data_items` and `check_latency_items` that check that you completed the assignment correctly.  Before you submit the assignment, the notebook should run without any assertion errors. \n",
    "\n",
    "Warning: Do not change the names of the dataframes (i.e. `df1_1`, `df1_2`, `df`_3`) as the instructor uses these names when checking the assignments. "
   ]
  },
  {
   "cell_type": "code",
   "execution_count": 70,
   "metadata": {
    "pycharm": {
     "name": "#%%\n"
    }
   },
   "outputs": [],
   "source": [
    "# This code helps check asssignment data\n",
    "\n",
    "import pandas as pd\n",
    "from collections import namedtuple\n",
    "from dataclasses import dataclass\n",
    "\n",
    "InformationUnit = namedtuple('InformationUnit', ['name', 'size'])\n",
    "DataItem = namedtuple('DataItem', ['name', 'size', 'unit'])\n",
    "LatencyItem = namedtuple('LatencyItem', ['name', 'time', 'unit', 'explanation'])\n",
    "\n",
    "information_units = dict(\n",
    "    B=InformationUnit(\"byte\", 1),\n",
    "    KB=InformationUnit(\"kilobyte\", 1e3),\n",
    "    MB=InformationUnit(\"megabyte\", 1e6),\n",
    "    GB=InformationUnit(\"gigabyte\", 1e9),\n",
    "    TB=InformationUnit(\"terabyte\", 1e12),\n",
    "    PB=InformationUnit(\"petabyte\", 1e15),\n",
    "    EB=InformationUnit(\"exabyte\", 1e18),\n",
    "    ZB=InformationUnit(\"zettabyte\", 1e21),\n",
    "    YB=InformationUnit(\"yottabyte\", 1e24)\n",
    ")\n",
    "\n",
    "time_units = {\n",
    "    \"ms\": \"millisecond\",\n",
    "    \"s\": \"second\",\n",
    "    \"min\": \"minute\"\n",
    "}\n",
    "\n",
    "def check_data_items(items):\n",
    "    # Checks to see if data sizes and units are filled out correctly\n",
    "    for item in items:\n",
    "        assert item.size > 0, 'Size for \"{}\" should be greater than zero'.format(item.name)\n",
    "        assert item.unit in information_units, 'Unit \"{}\" not in units dictionary'.format(item.unit)\n",
    "        \n",
    "def check_latency_items(items):\n",
    "    # Checks to see if time sizes and units are filled out correctly\n",
    "    for item in items:\n",
    "        # assert item.time > 0, 'Time for \"{}\" should be greater than zero'.format(item.name)\n",
    "        assert item.unit in time_units, 'Unit \"{}\" not in time units dictionary'.format(item.unit)\n",
    "        assert item.explanation != \"FILL IN THE EXPLANATION HERE\", 'Fill in explanation for \"{}\"'.format(item.name)"
   ]
  },
  {
   "cell_type": "markdown",
   "metadata": {
    "pycharm": {
     "name": "#%% md\n"
    }
   },
   "source": [
    "### Assignment 1.1\n",
    "\n",
    "Provide estimates for the size of various data items.  Please explain how you arrived at the estimates for the size of each item by citing references or providing calculations. \n",
    "\n",
    "* Assume all videos are 30 frames per second\n",
    "* [HEVC](https://en.wikipedia.org/wiki/High_Efficiency_Video_Coding) stands for High Efficiency Video Coding\n",
    "* See the Wikipedia article on [display resolution](https://en.wikipedia.org/wiki/Display_resolution) for information on HD (1080p) and 4K UHD resolutions. "
   ]
  },
  {
   "cell_type": "markdown",
   "metadata": {
    "pycharm": {
     "name": "#%% md\n"
    }
   },
   "source": [
    "| Data Item                                  | Size per Item | \n",
    "|:-------------------------------------------|--------------:|\n",
    "| 128 character message                      | ? Bytes       |\n",
    "| 1024x768 PNG image                         | ? MB          |\n",
    "| 1024x768 RAW image                         | ? MB          | \n",
    "| HD (1080p) HEVC Video (15 minutes)         | ? MB          |\n",
    "| HD (1080p) Uncompressed Video (15 minutes) | ? MB          |\n",
    "| 4K UHD HEVC Video (15 minutes)             | ? MB          |\n",
    "| 4k UHD Uncompressed Video (15 minutes)     | ? MB          |\n",
    "| Human Genome (Uncompressed)                | ? GB          |"
   ]
  },
  {
   "cell_type": "markdown",
   "source": [
    "# <font color=2d5db5>**Assignment 1.1 Estimates and Sources**"
   ],
   "metadata": {
    "collapsed": false,
    "pycharm": {
     "name": "#%% md\n"
    }
   }
  },
  {
   "cell_type": "code",
   "execution_count": 101,
   "outputs": [
    {
     "name": "stdout",
     "output_type": "stream",
     "text": [
      "A 1024x768 PNG image has 786,432 pixels. Each pixel has 3.0 Bytes and there are 1,048,576 bytes in each MegaByte (MB), so a 1024x768 PNG image has 2.25MBs.\n",
      "A 1024x768 Raw image has 786,432 pixels. Each pixel has 1.625 Bytes and there are 1,048,576 bytes in each MegaByte (MB), so a 1024x768 PNG image has 1.22MBs.\n",
      "HD (1080p) HEVC Video (15 minutes) = 533.94MBs\n",
      "HD (1080p) Uncompressed Video (15 minutes) = 521.42GBs\n",
      "4K UHD HEVC Video (15 minutes) = 2.09GBs\n",
      "4k UHD Uncompressed Video (15 minutes) = 2085.69GBs\n"
     ]
    }
   ],
   "source": [
    "#bit reference http://www.beesky.com/newsite/bit_byte.htm\n",
    "meg = 2**20\n",
    "gig = 2**30\n",
    "tera = 2**40\n",
    "peta =2**50\n",
    "exa =2**60\n",
    "\n",
    "#128 message\n",
    "# twitter uses UTF-8 which ranges from 1-4 bytes per character; 4 byte characters are typically emojies, math symbols and other less common characters; expected range is 128-384 depending on the language, so going with the average of 256;\n",
    "# reference: https://en.wikipedia.org/wiki/UTF-8\n",
    "\n",
    "#1024x768 PNG;\n",
    "# references: https://en.wikipedia.org/wiki/PNG#File_size_and_optimization_software; https://en.wikipedia.org/wiki/Megabyte#:~:text=The%20unit%20megabyte%20is%20commonly,bytes%20or%2010242%20bytes.\n",
    "pix = 1024*768 #calculates total pixes\n",
    "Bpp = 24/8 # 24 bits per pix or 3 bytes\n",
    "print('A 1024x768 PNG image has ', format(pix,\",\") , ' pixels. Each pixel has ', Bpp, ' Bytes and there are ', format(meg,\",\"), ' bytes in each MegaByte (MB), so a 1024x768 PNG image has ',pix*Bpp/meg, 'MBs.', sep=\"\")\n",
    "\n",
    "#1024x768 Raw image\n",
    "#reference: https://en.wikipedia.org/wiki/Raw_image_format\n",
    "pix = 1024*768\n",
    "Raw_Bpp = 13/8 # raw uses 12-14 bits per pixels, so averaging at 13\n",
    "print('A 1024x768 Raw image has ', format(pix,\",\") , ' pixels. Each pixel has ', Raw_Bpp, ' Bytes and there are ', format(meg,\",\"), ' bytes in each MegaByte (MB), so a 1024x768 PNG image has ','{:.2f}'.format(pix*Raw_Bpp/meg), 'MBs.', sep=\"\")\n",
    "\n",
    "# HD (1080p) HEVC Video (15 minutes) & HD (1080p) Uncompressed Video (15 minutes)\n",
    "#reference: https://www.circlehd.com/blog/how-to-calculate-video-file-size\n",
    "#File Size = Bitrate x duration x compression ratio\n",
    "#File Size = Bitrate(pixel count * bit per pixel (8-12; going with 10 avg) * frame rate (30fps) * duration(60 * 15) * compression ratio (raw(1/1), HEVC (1/1000))\n",
    "br= 1080 * 1920 * 10 * 30\n",
    "dur = (60*15) #seconds * mins (conversiton for per second bitrate)\n",
    "raw_cr = 1/1\n",
    "HEVC_cr = 1/1000\n",
    "\n",
    "print('HD (1080p) HEVC Video (15 minutes) = ','{:.2f}'.format(br * dur * HEVC_cr /meg),\"MBs\\n\",\n",
    "      'HD (1080p) Uncompressed Video (15 minutes) = ','{:.2f}'.format(br * dur * raw_cr/gig), \"GBs\", sep=\"\")\n",
    "\n",
    "# 4K UHD HEVC Video (15 minutes) & 4k UHD Uncompressed Video (15 minutes)\n",
    "br = 3840*2160 * 10 * 30\n",
    "\n",
    "print('4K UHD HEVC Video (15 minutes) = ','{:.2f}'.format(br * dur * HEVC_cr /gig),\"GBs\\n\",\n",
    "      '4k UHD Uncompressed Video (15 minutes) = ','{:.2f}'.format(br * dur * raw_cr/gig), \"GBs\", sep=\"\")\n",
    "\n",
    "\n",
    "# Human Genome (Uncompressed)\n",
    "#reference https://medium.com/precision-medicine/how-big-is-the-human-genome-e90caa3409b0\n",
    "# ~200 GB\n"
   ],
   "metadata": {
    "collapsed": false,
    "pycharm": {
     "name": "#%%\n"
    }
   }
  },
  {
   "cell_type": "code",
   "execution_count": 73,
   "metadata": {
    "pycharm": {
     "name": "#%%\n"
    }
   },
   "outputs": [
    {
     "name": "stderr",
     "output_type": "stream",
     "text": [
      "C:\\Users\\michaelmontana\\AppData\\Local\\Temp\\ipykernel_20912\\756653711.py:20: FutureWarning: this method is deprecated in favour of `Styler.hide(axis='index')`\n",
      "  df1_1.style.hide_index()\n"
     ]
    },
    {
     "data": {
      "text/plain": "<pandas.io.formats.style.Styler at 0x1d3011e7b50>",
      "text/html": "<style type=\"text/css\">\n</style>\n<table id=\"T_81eb8\">\n  <thead>\n    <tr>\n      <th id=\"T_81eb8_level0_col0\" class=\"col_heading level0 col0\" >name</th>\n      <th id=\"T_81eb8_level0_col1\" class=\"col_heading level0 col1\" >size</th>\n      <th id=\"T_81eb8_level0_col2\" class=\"col_heading level0 col2\" >unit</th>\n    </tr>\n  </thead>\n  <tbody>\n    <tr>\n      <td id=\"T_81eb8_row0_col0\" class=\"data row0 col0\" >1 Byte</td>\n      <td id=\"T_81eb8_row0_col1\" class=\"data row0 col1\" >1.000000</td>\n      <td id=\"T_81eb8_row0_col2\" class=\"data row0 col2\" >B</td>\n    </tr>\n    <tr>\n      <td id=\"T_81eb8_row1_col0\" class=\"data row1 col0\" >128 character message</td>\n      <td id=\"T_81eb8_row1_col1\" class=\"data row1 col1\" >256.000000</td>\n      <td id=\"T_81eb8_row1_col2\" class=\"data row1 col2\" >B</td>\n    </tr>\n    <tr>\n      <td id=\"T_81eb8_row2_col0\" class=\"data row2 col0\" >1024x768 PNG image</td>\n      <td id=\"T_81eb8_row2_col1\" class=\"data row2 col1\" >2.250000</td>\n      <td id=\"T_81eb8_row2_col2\" class=\"data row2 col2\" >MB</td>\n    </tr>\n    <tr>\n      <td id=\"T_81eb8_row3_col0\" class=\"data row3 col0\" >1024x768 RAW image</td>\n      <td id=\"T_81eb8_row3_col1\" class=\"data row3 col1\" >1.220000</td>\n      <td id=\"T_81eb8_row3_col2\" class=\"data row3 col2\" >MB</td>\n    </tr>\n    <tr>\n      <td id=\"T_81eb8_row4_col0\" class=\"data row4 col0\" >HD (1080p) HEVC Video (15 minutes)</td>\n      <td id=\"T_81eb8_row4_col1\" class=\"data row4 col1\" >533.940000</td>\n      <td id=\"T_81eb8_row4_col2\" class=\"data row4 col2\" >MB</td>\n    </tr>\n    <tr>\n      <td id=\"T_81eb8_row5_col0\" class=\"data row5 col0\" >HD (1080p) Uncompressed Video (15 minutes)</td>\n      <td id=\"T_81eb8_row5_col1\" class=\"data row5 col1\" >521.420000</td>\n      <td id=\"T_81eb8_row5_col2\" class=\"data row5 col2\" >GB</td>\n    </tr>\n    <tr>\n      <td id=\"T_81eb8_row6_col0\" class=\"data row6 col0\" >4K UHD HEVC Video (15 minutes)</td>\n      <td id=\"T_81eb8_row6_col1\" class=\"data row6 col1\" >2.090000</td>\n      <td id=\"T_81eb8_row6_col2\" class=\"data row6 col2\" >GB</td>\n    </tr>\n    <tr>\n      <td id=\"T_81eb8_row7_col0\" class=\"data row7 col0\" >4k UHD Uncompressed Video (15 minutes)</td>\n      <td id=\"T_81eb8_row7_col1\" class=\"data row7 col1\" >2085.690000</td>\n      <td id=\"T_81eb8_row7_col2\" class=\"data row7 col2\" >GB</td>\n    </tr>\n    <tr>\n      <td id=\"T_81eb8_row8_col0\" class=\"data row8 col0\" >Human Genome (Uncompressed)</td>\n      <td id=\"T_81eb8_row8_col1\" class=\"data row8 col1\" >200.000000</td>\n      <td id=\"T_81eb8_row8_col2\" class=\"data row8 col2\" >GB</td>\n    </tr>\n  </tbody>\n</table>\n"
     },
     "execution_count": 73,
     "metadata": {},
     "output_type": "execute_result"
    }
   ],
   "source": [
    "# TODO: Fill in the estimated sizes for each item\n",
    "# You may need to adjust the units as well\n",
    "\n",
    "items1_1 = [\n",
    "    DataItem('1 Byte', 1, 'B'),\n",
    "    DataItem(\"128 character message\", 256, \"B\"),\n",
    "    DataItem(\"1024x768 PNG image\", 2.25, \"MB\"),\n",
    "    DataItem(\"1024x768 RAW image\", 1.22, \"MB\"),\n",
    "    DataItem(\"HD (1080p) HEVC Video (15 minutes)\", 533.94, \"MB\"),\n",
    "    DataItem(\"HD (1080p) Uncompressed Video (15 minutes)\", 521.42, \"GB\"),\n",
    "    DataItem(\"4K UHD HEVC Video (15 minutes)\", 2.09, \"GB\"),\n",
    "    DataItem(\"4k UHD Uncompressed Video (15 minutes)\", 2085.69, \"GB\"),\n",
    "    DataItem(\"Human Genome (Uncompressed)\", 200, \"GB\"),\n",
    "]\n",
    "\n",
    "# Checks if items properly updated\n",
    "check_data_items(items1_1)\n",
    "    \n",
    "df1_1 = pd.DataFrame(items1_1)\n",
    "df1_1.style.hide_index()"
   ]
  },
  {
   "cell_type": "markdown",
   "metadata": {
    "pycharm": {
     "name": "#%% md\n"
    }
   },
   "source": [
    "### Assignment 1.2\n",
    "\n",
    "Using the estimates for data sizes in the previous part, determine how much storage space you would need for the following items.\n",
    "\n",
    "* [Twitter statistics](https://www.internetlivestats.com/twitter-statistics/) estimates 500 million tweets are sent each day. For simplicity, assume each tweet is 128 characters. \n",
    "* See the [Snappy Github repository](https://github.com/google/snappy) for estimates of Snappy's performance. \n",
    "* [Instagram statistics](https://www.omnicoreagency.com/instagram-statistics/) estimates over 100 million videos and photos are uploaded to Instagram every day.   Assume that 75% of those items are 1024x768 PNG photos.\n",
    "* [YouTube statistics](https://www.omnicoreagency.com/youtube-statistics/) estimates 500 hours of video is uploaded to YouTube every minute.  For simplicity, assume all videos are HD quality encoded using HEVC at 30 frames per second. \n",
    "\n",
    "\n",
    "| Data Item                                  | Size per Item | \n",
    "|:-------------------------------------------|--------------:|\n",
    "| Daily Twitter Tweets (Uncompressed)        | ??? TB        |                       \n",
    "| Daily Twitter Tweets (Snappy Compressed)   | ??? PB        |                       \n",
    "| Daily Instagram Photos                     | ??? GB        |\n",
    "| Daily YouTube Videos                       | ??? TB        |                       \n",
    "| Yearly Twitter Tweets (Uncompressed)       | ??? PB        |                       \n",
    "| Yearly Twitter Tweets (Snappy Compressed)  | ??? PB        |                       \n",
    "| Yearly Instagram Photos                    | ??? PB        |                       \n",
    "| Yearly YouTube Videos                      | ??? PB        |"
   ]
  },
  {
   "cell_type": "code",
   "execution_count": 105,
   "outputs": [
    {
     "name": "stdout",
     "output_type": "stream",
     "text": [
      "Daily:\n",
      "\tTwitter Tweets (Uncompressed): 953.67GB\n",
      "\tDaily Twitter Tweets (Snappy Compressed): 1.49TB\n",
      "\tDaily Instagram Photos: 160.93TB\n",
      "\tDaily YouTube Videos: 24.44TB\n",
      "Yearly:\n",
      "\tYearly Twitter Tweets (Uncompressed): 339.93TB\n",
      "\tYearly Twitter Tweets (Snappy Compressed): 543.89TB\n",
      "\tYearly Instagram Photos: 57.36PB\n",
      "\tYearly YouTube Videos: 8.71PB\n"
     ]
    }
   ],
   "source": [
    "\n",
    "\n",
    "# Daily Twitter Tweets (Uncompressed)\n",
    "daily_tweets=500000000*256*8\n",
    "\n",
    "# Daily Twitter Tweets (Snappy Compressed)\n",
    "# Typical compression ratios (based on the benchmark suite) are about 1.5-1.7x for plain text, about 2-4x for HTML, and of course 1.0x for JPEGs, PNGs and other already-compressed data.\n",
    "tweets_snappy = daily_tweets * 1.6\n",
    "\n",
    "# Daily Instagram Photos\n",
    "insta = 100000000 * .75 * pix * Bpp\n",
    "\n",
    "# Daily YouTube Videos\n",
    "dutube = ((1080 * 1920 * 10 * 30) * (60 * 60 * 500 * 24) * (HEVC_cr))\n",
    "\n",
    "# Yearly Twitter Tweets (Uncompressed),Yearly Twitter Tweets (Snappy Compressed),Yearly Instagram Photos, Yearly YouTube Videos all x365\n",
    "#bit reference http://www.beesky.com/newsite/bit_byte.htm\n",
    "meg = 2**20\n",
    "gig = 2**30\n",
    "tera = 2**40\n",
    "peta =2**50\n",
    "exa =2**60\n",
    "\n",
    "print('Daily:\\n',\n",
    "      '\\tTwitter Tweets (Uncompressed): ', '{:.2f}'.format(daily_tweets/gig), 'GB',\n",
    "      '\\n\\tDaily Twitter Tweets (Snappy Compressed): ', '{:.2f}'.format(tweets_snappy/tera), 'TB',\n",
    "      '\\n\\tDaily Instagram Photos: ','{:.2f}'.format(insta/tera),'TB',\n",
    "      '\\n\\tDaily YouTube Videos: ','{:.2f}'.format(dutube/tera), 'TB',\n",
    "      '\\nYearly:'\n",
    "      '\\n\\tYearly Twitter Tweets (Uncompressed): ','{:.2f}'.format(daily_tweets*365/tera), 'TB',\n",
    "      '\\n\\tYearly Twitter Tweets (Snappy Compressed): ', '{:.2f}'.format(tweets_snappy*365/tera),'TB',\n",
    "      '\\n\\tYearly Instagram Photos: ','{:.2f}'.format(insta*365/peta),'PB',\n",
    "      '\\n\\tYearly YouTube Videos: ', '{:.2f}'.format(dutube *365/peta),'PB',\n",
    "      sep=''\n",
    "      )"
   ],
   "metadata": {
    "collapsed": false,
    "pycharm": {
     "name": "#%%\n"
    }
   }
  },
  {
   "cell_type": "code",
   "execution_count": 104,
   "metadata": {
    "pycharm": {
     "name": "#%%\n"
    }
   },
   "outputs": [
    {
     "name": "stderr",
     "output_type": "stream",
     "text": [
      "C:\\Users\\michaelmontana\\AppData\\Local\\Temp\\ipykernel_20912\\1072093892.py:19: FutureWarning: this method is deprecated in favour of `Styler.hide(axis='index')`\n",
      "  df1_2.style.hide_index()\n"
     ]
    },
    {
     "data": {
      "text/plain": "<pandas.io.formats.style.Styler at 0x1d302079ac0>",
      "text/html": "<style type=\"text/css\">\n</style>\n<table id=\"T_f1d02\">\n  <thead>\n    <tr>\n      <th id=\"T_f1d02_level0_col0\" class=\"col_heading level0 col0\" >name</th>\n      <th id=\"T_f1d02_level0_col1\" class=\"col_heading level0 col1\" >size</th>\n      <th id=\"T_f1d02_level0_col2\" class=\"col_heading level0 col2\" >unit</th>\n    </tr>\n  </thead>\n  <tbody>\n    <tr>\n      <td id=\"T_f1d02_row0_col0\" class=\"data row0 col0\" >Daily Twitter Tweets (Uncompressed)</td>\n      <td id=\"T_f1d02_row0_col1\" class=\"data row0 col1\" >953.670000</td>\n      <td id=\"T_f1d02_row0_col2\" class=\"data row0 col2\" >GB</td>\n    </tr>\n    <tr>\n      <td id=\"T_f1d02_row1_col0\" class=\"data row1 col0\" >Daily Twitter Tweets (Snappy Compressed)</td>\n      <td id=\"T_f1d02_row1_col1\" class=\"data row1 col1\" >1.490000</td>\n      <td id=\"T_f1d02_row1_col2\" class=\"data row1 col2\" >TB</td>\n    </tr>\n    <tr>\n      <td id=\"T_f1d02_row2_col0\" class=\"data row2 col0\" >Daily Instagram Photos</td>\n      <td id=\"T_f1d02_row2_col1\" class=\"data row2 col1\" >160.930000</td>\n      <td id=\"T_f1d02_row2_col2\" class=\"data row2 col2\" >TB</td>\n    </tr>\n    <tr>\n      <td id=\"T_f1d02_row3_col0\" class=\"data row3 col0\" >Daily YouTube Videos</td>\n      <td id=\"T_f1d02_row3_col1\" class=\"data row3 col1\" >24.440000</td>\n      <td id=\"T_f1d02_row3_col2\" class=\"data row3 col2\" >TB</td>\n    </tr>\n    <tr>\n      <td id=\"T_f1d02_row4_col0\" class=\"data row4 col0\" >Yearly Twitter Tweets (Uncompressed)</td>\n      <td id=\"T_f1d02_row4_col1\" class=\"data row4 col1\" >339.930000</td>\n      <td id=\"T_f1d02_row4_col2\" class=\"data row4 col2\" >TB</td>\n    </tr>\n    <tr>\n      <td id=\"T_f1d02_row5_col0\" class=\"data row5 col0\" >Yearly Twitter Tweets (Snappy Compressed)</td>\n      <td id=\"T_f1d02_row5_col1\" class=\"data row5 col1\" >543.890000</td>\n      <td id=\"T_f1d02_row5_col2\" class=\"data row5 col2\" >TB</td>\n    </tr>\n    <tr>\n      <td id=\"T_f1d02_row6_col0\" class=\"data row6 col0\" >Yearly Instagram Photos</td>\n      <td id=\"T_f1d02_row6_col1\" class=\"data row6 col1\" >57.360000</td>\n      <td id=\"T_f1d02_row6_col2\" class=\"data row6 col2\" >PB</td>\n    </tr>\n    <tr>\n      <td id=\"T_f1d02_row7_col0\" class=\"data row7 col0\" >Yearly YouTube Videos</td>\n      <td id=\"T_f1d02_row7_col1\" class=\"data row7 col1\" >8.710000</td>\n      <td id=\"T_f1d02_row7_col2\" class=\"data row7 col2\" >PB</td>\n    </tr>\n  </tbody>\n</table>\n"
     },
     "execution_count": 104,
     "metadata": {},
     "output_type": "execute_result"
    }
   ],
   "source": [
    "# TODO: Fill in the estimated sizes for each item\n",
    "# You may need to adjust the units as well\n",
    "\n",
    "items1_2 = [\n",
    "    DataItem(\"Daily Twitter Tweets (Uncompressed)\", 953.67, \"GB\"),\n",
    "    DataItem(\"Daily Twitter Tweets (Snappy Compressed)\", 1.49, \"TB\"),\n",
    "    DataItem(\"Daily Instagram Photos\", 160.93, \"TB\"),\n",
    "    DataItem(\"Daily YouTube Videos\", 24.44, \"TB\"),\n",
    "    DataItem(\"Yearly Twitter Tweets (Uncompressed)\", 339.93, \"TB\"),\n",
    "    DataItem(\"Yearly Twitter Tweets (Snappy Compressed)\", 543.89, \"TB\"),\n",
    "    DataItem(\"Yearly Instagram Photos\", 57.36, \"PB\"),\n",
    "    DataItem(\"Yearly YouTube Videos\", 8.71, \"PB\"),\n",
    "]\n",
    "\n",
    "# Checks if items properly updated\n",
    "check_data_items(items1_2)\n",
    "\n",
    "df1_2 = pd.DataFrame(items1_2)\n",
    "df1_2.style.hide_index()"
   ]
  },
  {
   "cell_type": "markdown",
   "metadata": {
    "pycharm": {
     "name": "#%% md\n"
    }
   },
   "source": [
    "### Assignment 1.3\n",
    "\n",
    "Provide estimates of the one way latency for each of the following items.  Please explain how you arrived at the estimates for each item by citing references or providing calculations. "
   ]
  },
  {
   "cell_type": "markdown",
   "metadata": {
    "pycharm": {
     "name": "#%% md\n"
    }
   },
   "source": [
    "|                           | One Way Latency      |\n",
    "|:--------------------------|---------------------:|\n",
    "| Los Angeles to Amsterdam  | ? ms                 |\n",
    "| Low Earth Orbit Satellite | ? ms                 |\n",
    "| Geostationary Satellite   | ? ms                 |\n",
    "| Earth to the Moon         | ? ms                 |\n",
    "| Earth to Mars             | ? min                | "
   ]
  },
  {
   "cell_type": "code",
   "execution_count": 106,
   "metadata": {
    "pycharm": {
     "name": "#%%\n"
    }
   },
   "outputs": [
    {
     "name": "stderr",
     "output_type": "stream",
     "text": [
      "C:\\Users\\michaelmontana\\AppData\\Local\\Temp\\ipykernel_20912\\163460330.py:58: FutureWarning: this method is deprecated in favour of `Styler.hide(axis='index')`\n",
      "  df1_3.style.hide_index()\n"
     ]
    },
    {
     "data": {
      "text/plain": "<pandas.io.formats.style.Styler at 0x1d302079c10>",
      "text/html": "<style type=\"text/css\">\n</style>\n<table id=\"T_f3bea\">\n  <thead>\n    <tr>\n      <th id=\"T_f3bea_level0_col0\" class=\"col_heading level0 col0\" >name</th>\n      <th id=\"T_f3bea_level0_col1\" class=\"col_heading level0 col1\" >time</th>\n      <th id=\"T_f3bea_level0_col2\" class=\"col_heading level0 col2\" >unit</th>\n      <th id=\"T_f3bea_level0_col3\" class=\"col_heading level0 col3\" >explanation</th>\n    </tr>\n  </thead>\n  <tbody>\n    <tr>\n      <td id=\"T_f3bea_row0_col0\" class=\"data row0 col0\" >Los Angeles to Amsterdam</td>\n      <td id=\"T_f3bea_row0_col1\" class=\"data row0 col1\" >140.089000</td>\n      <td id=\"T_f3bea_row0_col2\" class=\"data row0 col2\" >ms</td>\n      <td id=\"T_f3bea_row0_col3\" class=\"data row0 col3\" >I used global ping statistics.  I chose average of 140.089 for the timestamp 2023-06-11 09:01:18. https://wondernetwork.com/pings/Los%20Angeles/Amsterdam</td>\n    </tr>\n    <tr>\n      <td id=\"T_f3bea_row1_col0\" class=\"data row1 col0\" >Low Earth Orbit Satellite</td>\n      <td id=\"T_f3bea_row1_col1\" class=\"data row1 col1\" >50.000000</td>\n      <td id=\"T_f3bea_row1_col2\" class=\"data row1 col2\" >ms</td>\n      <td id=\"T_f3bea_row1_col3\" class=\"data row1 col3\" >LEO satellites should deliver approximately 50 ms of latency (and this will improve with next-generation technology to <20 ms). https://www.analog.com/en/analog-dialogue/articles/internet-from-space-rfic-in-high-capacity-low-latency-leo-satellite-terminals.html#:~:text=LEO%20satellites%20should%20deliver%20approximately,due%20to%20the%20lower%20orbit..</td>\n    </tr>\n    <tr>\n      <td id=\"T_f3bea_row2_col0\" class=\"data row2 col0\" >Geostationary Satellite</td>\n      <td id=\"T_f3bea_row2_col1\" class=\"data row2 col1\" >550.000000</td>\n      <td id=\"T_f3bea_row2_col2\" class=\"data row2 col2\" >ms</td>\n      <td id=\"T_f3bea_row2_col3\" class=\"data row2 col3\" >Typically, during perfect conditions, the physics involved in satellite communications account for approximately 550 milliseconds of latency round-trip time. https://en.wikipedia.org/wiki/Satellite_Internet_access#:~:text=Typically%2C%20during%20perfect%20conditions%2C%20the,a%20geostationary%20satellite%2Dbased%20network.</td>\n    </tr>\n    <tr>\n      <td id=\"T_f3bea_row3_col0\" class=\"data row3 col0\" >Earth to the Moon</td>\n      <td id=\"T_f3bea_row3_col1\" class=\"data row3 col1\" >2.560000</td>\n      <td id=\"T_f3bea_row3_col2\" class=\"data row3 col2\" >s</td>\n      <td id=\"T_f3bea_row3_col3\" class=\"data row3 col3\" >Radio waves propagate in vacuum at the speed of light c, exactly 299,792,458 m/s. Propagation time to the Moon and back ranges from 2.4 to 2.7 seconds, with an average of 2.56 seconds (the average distance from Earth to the Moon is 384,400 km).</td>\n    </tr>\n    <tr>\n      <td id=\"T_f3bea_row4_col0\" class=\"data row4 col0\" >Earth to Mars</td>\n      <td id=\"T_f3bea_row4_col1\" class=\"data row4 col1\" >12.500000</td>\n      <td id=\"T_f3bea_row4_col2\" class=\"data row4 col2\" >min</td>\n      <td id=\"T_f3bea_row4_col3\" class=\"data row4 col3\" >It generally takes about 5 to 20 minutes for a radio signal to travel the distance between Mars and Earth, depending on planet positions.  Using avg of 12.5 mins.  https://mars.nasa.gov/mars2020/spacecraft/rover/communications/#:~:text=It%20generally%20takes%20about%205,Earth%2C%20depending%20on%20planet%20positions.</td>\n    </tr>\n  </tbody>\n</table>\n"
     },
     "execution_count": 106,
     "metadata": {},
     "output_type": "execute_result"
    }
   ],
   "source": [
    "# TODO: Provide explanations for how you arrived at each estimation\n",
    "\n",
    "los_angeles_to_amsterdam_explanation = \"\"\"\n",
    "I used global ping statistics.  I chose average of 140.089 for the timestamp 2023-06-11 09:01:18. https://wondernetwork.com/pings/Los%20Angeles/Amsterdam\n",
    "\"\"\"\n",
    "low_earth_orbit_satellite_explanation = \"\"\"\n",
    "LEO satellites should deliver approximately 50 ms of latency (and this will improve with next-generation technology to <20 ms). https://www.analog.com/en/analog-dialogue/articles/internet-from-space-rfic-in-high-capacity-low-latency-leo-satellite-terminals.html#:~:text=LEO%20satellites%20should%20deliver%20approximately,due%20to%20the%20lower%20orbit..\n",
    "\"\"\"\n",
    "geostationary_satellite_explanation = \"\"\"\n",
    "Typically, during perfect conditions, the physics involved in satellite communications account for approximately 550 milliseconds of latency round-trip time. https://en.wikipedia.org/wiki/Satellite_Internet_access#:~:text=Typically%2C%20during%20perfect%20conditions%2C%20the,a%20geostationary%20satellite%2Dbased%20network.\n",
    "\"\"\"\n",
    "earth_to_the_moon_explanation = \"\"\"\n",
    "Radio waves propagate in vacuum at the speed of light c, exactly 299,792,458 m/s. Propagation time to the Moon and back ranges from 2.4 to 2.7 seconds, with an average of 2.56 seconds (the average distance from Earth to the Moon is 384,400 km).\n",
    "\"\"\"\n",
    "earth_to_mars_explanation = \"\"\"\n",
    "It generally takes about 5 to 20 minutes for a radio signal to travel the distance between Mars and Earth, depending on planet positions.  Using avg of 12.5 mins.  https://mars.nasa.gov/mars2020/spacecraft/rover/communications/#:~:text=It%20generally%20takes%20about%205,Earth%2C%20depending%20on%20planet%20positions.\n",
    "\"\"\"\n",
    "\n",
    "# TODO: Fill in the estimated times for each item\n",
    "\n",
    "items1_3 = [\n",
    "    LatencyItem(\n",
    "        \"Los Angeles to Amsterdam\",\n",
    "        140.089,\n",
    "        \"ms\",\n",
    "        los_angeles_to_amsterdam_explanation.strip()\n",
    "    ),\n",
    "    LatencyItem(\n",
    "        \"Low Earth Orbit Satellite\",\n",
    "        50,\n",
    "        \"ms\",\n",
    "        low_earth_orbit_satellite_explanation.strip()\n",
    "    ),\n",
    "    LatencyItem(\n",
    "        \"Geostationary Satellite\",\n",
    "        550,\n",
    "        \"ms\",\n",
    "        geostationary_satellite_explanation.strip()\n",
    "    ),\n",
    "    LatencyItem(\n",
    "        \"Earth to the Moon\",\n",
    "        2.56,\n",
    "        \"s\",\n",
    "        earth_to_the_moon_explanation.strip()\n",
    "    ),\n",
    "    LatencyItem(\n",
    "        \"Earth to Mars\",\n",
    "        12.5,\n",
    "        \"min\",\n",
    "        earth_to_mars_explanation.strip()\n",
    "    ),\n",
    "]\n",
    "\n",
    "# Checks if items properly updated\n",
    "check_latency_items(items1_3)\n",
    "\n",
    "df1_3 = pd.DataFrame(items1_3)\n",
    "df1_3.style.hide_index()"
   ]
  }
 ],
 "metadata": {
  "kernelspec": {
   "display_name": "Python 3 (ipykernel)",
   "language": "python",
   "name": "python3"
  },
  "language_info": {
   "codemirror_mode": {
    "name": "ipython",
    "version": 3
   },
   "file_extension": ".py",
   "mimetype": "text/x-python",
   "name": "python",
   "nbconvert_exporter": "python",
   "pygments_lexer": "ipython3",
   "version": "3.9.7"
  }
 },
 "nbformat": 4,
 "nbformat_minor": 4
}